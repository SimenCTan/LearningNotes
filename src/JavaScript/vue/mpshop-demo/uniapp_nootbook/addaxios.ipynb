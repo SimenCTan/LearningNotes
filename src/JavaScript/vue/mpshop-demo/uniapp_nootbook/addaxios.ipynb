{
 "cells": [
  {
   "cell_type": "markdown",
   "metadata": {},
   "source": [
    "Axios 是一个基于 Promise 的 HTTP 客户端，用于浏览器和 Node.js 环境。它提供了简洁的 API，使得发送 HTTP 请求和处理响应变得更加方便。以下是关于 Axios 返回 Promise 的详细说明：\n",
    "\n",
    "### 1. 请求过程\n",
    "\n",
    "当使用 Axios 发送请求时，主要流程如下：\n",
    "\n",
    "- **请求函数**：调用 Axios 提供的请求函数（如 `axios.get()`、`axios.post()` 等）。\n",
    "- **返回 Promise**：Axios 会返回一个 Promise 对象，代表异步操作的最终结果。\n",
    "\n",
    "### 2. Promise 的状态\n",
    "\n",
    "Promise 有两种状态：成功（fulfilled）和失败（rejected）。根据请求的结果，Promise 会进入相应的状态。\n",
    "\n",
    "#### 成功状态\n",
    "\n",
    "当请求成功时，Promise 会进入成功状态，返回的响应对象通常包含以下几个重要属性：\n",
    "\n",
    "- **`res.data`**：核心数据，包含服务器返回的数据。\n",
    "- **`res.status`**：HTTP 状态码，指示请求的结果（如 200 表示成功）。\n",
    "- **`res.headers`**：响应头信息。\n",
    "- **`res.config`**：请求的配置。\n",
    "\n",
    "#### 失败状态\n",
    "\n",
    "如果请求失败，Promise 会进入失败状态，通常会处理以下几种错误：\n",
    "\n",
    "- **网络错误**：如请求无法到达服务器，可能会提示用户检查网络连接。\n",
    "- **401 错误**：未授权，通常会引导用户到登录页面，提示需要登录。\n",
    "- **其他错误**：根据不同的 HTTP 状态码（如 404、500 等），可以提供相应的错误提示。\n",
    "\n",
    "### 3. 示例代码\n",
    "\n",
    "```javascript\n",
    "axios.get('/api/data')\n",
    "  .then(res => {\n",
    "    console.log('成功:', res.data);\n",
    "  })\n",
    "  .catch(error => {\n",
    "    if (error.response) {\n",
    "      // 请求已发出，服务器响应了状态码\n",
    "      console.error('错误状态:', error.response.status);\n",
    "    } else {\n",
    "      // 其他错误（如网络错误）\n",
    "      console.error('网络错误:', error.message);\n",
    "    }\n",
    "  });\n",
    "```\n",
    "\n",
    "### 4. 总结\n",
    "\n",
    "Axios 通过返回 Promise 使得处理 HTTP 请求变得简单直观。无论是成功获取数据还是处理错误，开发者都可以通过链式调用 `.then()` 和 `.catch()` 方法来进行相应的处理。这种方式不仅提高了代码的可读性，也增强了错误处理的灵活性。"
   ]
  }
 ],
 "metadata": {
  "language_info": {
   "name": "python"
  }
 },
 "nbformat": 4,
 "nbformat_minor": 2
}
