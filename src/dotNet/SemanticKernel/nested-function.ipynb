{
 "cells": [
  {
   "cell_type": "markdown",
   "metadata": {},
   "source": [
    "### init kennel"
   ]
  },
  {
   "cell_type": "code",
   "execution_count": 2,
   "metadata": {
    "dotnet_interactive": {
     "language": "csharp"
    },
    "polyglot_notebook": {
     "kernelName": "csharp"
    }
   },
   "outputs": [
    {
     "data": {
      "text/html": [
       "<div><div></div><div></div><div><strong>Installed Packages</strong><ul><li><span>Microsoft.SemanticKernel, 1.8.0</span></li><li><span>Microsoft.SemanticKernel.PromptTemplates.Handlebars, 1.8.0</span></li></ul></div></div>"
      ]
     },
     "metadata": {},
     "output_type": "display_data"
    },
    {
     "name": "stdout",
     "output_type": "stream",
     "text": [
      "User > "
     ]
    },
    {
     "ename": "Error",
     "evalue": "HandlebarsDotNet.HandlebarsRuntimeException: Template references a helper that cannot be resolved. Helper 'ConversationSummaryPlugin-SummarizeConversation'\n   at HandlebarsDotNet.Helpers.MissingHelperDescriptor.Invoke(HelperOptions& options, Context& context, Arguments& arguments)\n   at HandlebarsDotNet.Helpers.MissingHelperDescriptor.HandlebarsDotNet.Helpers.IHelperDescriptor<HandlebarsDotNet.HelperOptions>.Invoke(HelperOptions& options, Context& context, Arguments& arguments)\n   at HandlebarsDotNet.Helpers.LateBindHelperDescriptor.Invoke(HelperOptions& options, Context& context, Arguments& arguments)\n   at HandlebarsDotNet.Helpers.LateBindHelperDescriptor.Invoke(EncodedTextWriter& output, HelperOptions& options, Context& context, Arguments& arguments)\n   at HandlebarsDotNet.Helpers.LateBindHelperDescriptor.HandlebarsDotNet.Helpers.IHelperDescriptor<HandlebarsDotNet.HelperOptions>.Invoke(EncodedTextWriter& output, HelperOptions& options, Context& context, Arguments& arguments)\n   at lambda_method357(Closure, EncodedTextWriter&, BindingContext)\n   at HandlebarsDotNet.HandlebarsEnvironment.<>c__DisplayClass19_0.<Compile>b__0(TextWriter writer, Object context, Object data)\n   at HandlebarsDotNet.HandlebarsEnvironment.<>c__DisplayClass20_0.<Compile>b__0(Object context, Object data)\n   at Microsoft.SemanticKernel.PromptTemplates.Handlebars.HandlebarsPromptTemplate.RenderAsync(Kernel kernel, KernelArguments arguments, CancellationToken cancellationToken)\n   at Microsoft.SemanticKernel.KernelFunctionFromPrompt.RenderPromptAsync(Kernel kernel, KernelArguments arguments, CancellationToken cancellationToken)\n   at Microsoft.SemanticKernel.KernelFunctionFromPrompt.InvokeCoreAsync(Kernel kernel, KernelArguments arguments, CancellationToken cancellationToken)\n   at Microsoft.SemanticKernel.KernelFunction.InvokeAsync(Kernel kernel, KernelArguments arguments, CancellationToken cancellationToken)\n   at Submission#7.<<Initialize>>d__0.MoveNext()\n--- End of stack trace from previous location ---\n   at Microsoft.CodeAnalysis.Scripting.ScriptExecutionState.RunSubmissionsAsync[TResult](ImmutableArray`1 precedingExecutors, Func`2 currentExecutor, StrongBox`1 exceptionHolderOpt, Func`2 catchExceptionOpt, CancellationToken cancellationToken)",
     "output_type": "error",
     "traceback": [
      "HandlebarsDotNet.HandlebarsRuntimeException: Template references a helper that cannot be resolved. Helper 'ConversationSummaryPlugin-SummarizeConversation'\n",
      "   at HandlebarsDotNet.Helpers.MissingHelperDescriptor.Invoke(HelperOptions& options, Context& context, Arguments& arguments)\n",
      "   at HandlebarsDotNet.Helpers.MissingHelperDescriptor.HandlebarsDotNet.Helpers.IHelperDescriptor<HandlebarsDotNet.HelperOptions>.Invoke(HelperOptions& options, Context& context, Arguments& arguments)\n",
      "   at HandlebarsDotNet.Helpers.LateBindHelperDescriptor.Invoke(HelperOptions& options, Context& context, Arguments& arguments)\n",
      "   at HandlebarsDotNet.Helpers.LateBindHelperDescriptor.Invoke(EncodedTextWriter& output, HelperOptions& options, Context& context, Arguments& arguments)\n",
      "   at HandlebarsDotNet.Helpers.LateBindHelperDescriptor.HandlebarsDotNet.Helpers.IHelperDescriptor<HandlebarsDotNet.HelperOptions>.Invoke(EncodedTextWriter& output, HelperOptions& options, Context& context, Arguments& arguments)\n",
      "   at lambda_method357(Closure, EncodedTextWriter&, BindingContext)\n",
      "   at HandlebarsDotNet.HandlebarsEnvironment.<>c__DisplayClass19_0.<Compile>b__0(TextWriter writer, Object context, Object data)\n",
      "   at HandlebarsDotNet.HandlebarsEnvironment.<>c__DisplayClass20_0.<Compile>b__0(Object context, Object data)\n",
      "   at Microsoft.SemanticKernel.PromptTemplates.Handlebars.HandlebarsPromptTemplate.RenderAsync(Kernel kernel, KernelArguments arguments, CancellationToken cancellationToken)\n",
      "   at Microsoft.SemanticKernel.KernelFunctionFromPrompt.RenderPromptAsync(Kernel kernel, KernelArguments arguments, CancellationToken cancellationToken)\n",
      "   at Microsoft.SemanticKernel.KernelFunctionFromPrompt.InvokeCoreAsync(Kernel kernel, KernelArguments arguments, CancellationToken cancellationToken)\n",
      "   at Microsoft.SemanticKernel.KernelFunction.InvokeAsync(Kernel kernel, KernelArguments arguments, CancellationToken cancellationToken)\n",
      "   at Submission#7.<<Initialize>>d__0.MoveNext()\n",
      "--- End of stack trace from previous location ---\n",
      "   at Microsoft.CodeAnalysis.Scripting.ScriptExecutionState.RunSubmissionsAsync[TResult](ImmutableArray`1 precedingExecutors, Func`2 currentExecutor, StrongBox`1 exceptionHolderOpt, Func`2 catchExceptionOpt, CancellationToken cancellationToken)"
     ]
    }
   ],
   "source": [
    "// Load some helper functions, e.g. to load values from settings.json\n",
    "#!import config/Settings.cs \n",
    "// Import Semantic Kernel\n",
    "#r \"nuget: Microsoft.SemanticKernel, 1.8.0\"\n",
    "#r \"nuget: Microsoft.SemanticKernel.PromptTemplates.Handlebars, 1.8.0\"\n",
    "using Microsoft.SemanticKernel;\n",
    "using Kernel = Microsoft.SemanticKernel.Kernel;\n",
    "using Microsoft.SemanticKernel.ChatCompletion;\n",
    "using Microsoft.SemanticKernel.PromptTemplates.Handlebars;\n",
    "\n",
    "//Create Kernel builder\n",
    "var builder = Kernel.CreateBuilder();\n",
    "\n",
    "// Configure AI service credentials used by the kernel\n",
    "var (useAzureOpenAI, model, azureEndpoint, apiKey, orgId) = Settings.LoadFromFile();\n",
    "\n",
    "if (useAzureOpenAI)\n",
    "    builder.AddAzureOpenAIChatCompletion(model, azureEndpoint, apiKey);\n",
    "else\n",
    "    builder.AddOpenAIChatCompletion(model, apiKey, orgId);\n",
    "\n",
    "var kernel = builder.Build();\n",
    "\n",
    "\n",
    "  // Create a Semantic Kernel template for chat\n",
    "        var chat = kernel.CreateFunctionFromPrompt(\n",
    "            @\"{{$history}}\n",
    "            User: {{$request}}\n",
    "            Assistant: \");\n",
    "\n",
    "        // Create choices\n",
    "        List<string> choices = [\"ContinueConversation\", \"EndConversation\"];\n",
    "\n",
    "        // Create few-shot examples\n",
    "        List<ChatHistory> fewShotExamples =\n",
    "        [\n",
    "            [\n",
    "                new ChatMessageContent(AuthorRole.User, \"Can you send a very quick approval to the marketing team?\"),\n",
    "                new ChatMessageContent(AuthorRole.System, \"Intent:\"),\n",
    "                new ChatMessageContent(AuthorRole.Assistant, \"ContinueConversation\")\n",
    "            ],\n",
    "            [\n",
    "                new ChatMessageContent(AuthorRole.User, \"Thanks, I'm done for now\"),\n",
    "                new ChatMessageContent(AuthorRole.System, \"Intent:\"),\n",
    "                new ChatMessageContent(AuthorRole.Assistant, \"EndConversation\")\n",
    "            ]\n",
    "        ];\n",
    "\n",
    "\n",
    "        // Create handlebars template for intent\n",
    "        var getIntent = kernel.CreateFunctionFromPrompt(\n",
    "            new()\n",
    "            {\n",
    "                Template = \"\"\"\n",
    "                           <message role=\"system\">Instructions: What is the intent of this request?\n",
    "                           Do not explain the reasoning, just reply back with the intent. If you are unsure, reply with {{choices[0]}}.\n",
    "                           Choices: {{choices}}.</message>\n",
    "\n",
    "                           {{#each fewShotExamples}}\n",
    "                               {{#each this}}\n",
    "                                   <message role=\"{{role}}\">{{content}}</message>\n",
    "                               {{/each}}\n",
    "                           {{/each}}\n",
    "                           {{ConversationSummaryPlugin-SummarizeConversation history}}\n",
    "                           <message role=\"user\">{{request}}</message>\n",
    "                           <message role=\"system\">Intent:</message>\n",
    "                           \"\"\",\n",
    "                TemplateFormat = \"handlebars\"\n",
    "            },\n",
    "            new HandlebarsPromptTemplateFactory()\n",
    "        );\n",
    "\n",
    "        ChatHistory history = [];\n",
    "   // Start the chat loop\n",
    "        while (true)\n",
    "        {\n",
    "            // Get user input\n",
    "           Console.Write(\"User > \");\n",
    "            var request =Console.ReadLine();\n",
    "\n",
    "            // Invoke prompt\n",
    "            var intent = await kernel.InvokeAsync(\n",
    "                getIntent,\n",
    "                new()\n",
    "                {\n",
    "                    { \"request\", request },\n",
    "                    { \"choices\", choices },\n",
    "                    { \"history\", history },\n",
    "                    { \"fewShotExamples\", fewShotExamples }\n",
    "                }\n",
    "            );\n",
    "\n",
    "            // End the chat if the intent is \"Stop\"\n",
    "            if (intent.ToString() == \"EndConversation\")\n",
    "            {\n",
    "                break;\n",
    "            }\n",
    "\n",
    "            // Get chat response\n",
    "            var chatResult = kernel.InvokeStreamingAsync<StreamingChatMessageContent>(\n",
    "                chat,\n",
    "                new()\n",
    "                {\n",
    "                    { \"request\", request },\n",
    "                    { \"history\", string.Join(\"\\n\", history.Select(x => x.Role + \": \" + x.Content)) }\n",
    "                }\n",
    "            );\n",
    "\n",
    "            // Stream the response\n",
    "            string message = \"\";\n",
    "            await foreach (var chunk in chatResult)\n",
    "            {\n",
    "                if (chunk.Role.HasValue)\n",
    "                {\n",
    "                    Console.Write(chunk.Role + \" > \");\n",
    "                }\n",
    "\n",
    "                message += chunk;\n",
    "                Console.Write(chunk);\n",
    "            }\n",
    "            Console.WriteLine();\n",
    "\n",
    "            // Append to history\n",
    "            history.AddUserMessage(request!);\n",
    "            history.AddAssistantMessage(message);\n",
    "        }"
   ]
  }
 ],
 "metadata": {
  "kernelspec": {
   "display_name": ".NET (C#)",
   "language": "C#",
   "name": ".net-csharp"
  },
  "language_info": {
   "name": "polyglot-notebook"
  },
  "polyglot_notebook": {
   "kernelInfo": {
    "defaultKernelName": "csharp",
    "items": [
     {
      "aliases": [],
      "languageName": "csharp",
      "name": "csharp"
     }
    ]
   }
  }
 },
 "nbformat": 4,
 "nbformat_minor": 2
}
