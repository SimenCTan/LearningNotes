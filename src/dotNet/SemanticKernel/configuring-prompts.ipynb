{
 "cells": [
  {
   "cell_type": "markdown",
   "metadata": {},
   "source": [
    "For example, you could add settings to the chat prompt from the previous article with the following code"
   ]
  },
  {
   "cell_type": "code",
   "execution_count": 8,
   "metadata": {
    "dotnet_interactive": {
     "language": "csharp"
    },
    "polyglot_notebook": {
     "kernelName": "csharp"
    }
   },
   "outputs": [
    {
     "data": {
      "text/html": [
       "<div><div></div><div></div><div><strong>Installed Packages</strong><ul><li><span>Microsoft.SemanticKernel, 1.8.0</span></li><li><span>Microsoft.SemanticKernel.Plugins.Core, 1.8.0-alpha</span></li><li><span>Microsoft.SemanticKernel.PromptTemplates.Handlebars, 1.8.0</span></li></ul></div></div>"
      ]
     },
     "metadata": {},
     "output_type": "display_data"
    },
    {
     "ename": "Error",
     "evalue": "(22,29): error SKEXP0050: 'Microsoft.SemanticKernel.Plugins.Core.ConversationSummaryPlugin' is for evaluation purposes only and is subject to change or removal in future updates. Suppress this diagnostic to proceed.",
     "output_type": "error",
     "traceback": [
      "(22,29): error SKEXP0050: 'Microsoft.SemanticKernel.Plugins.Core.ConversationSummaryPlugin' is for evaluation purposes only and is subject to change or removal in future updates. Suppress this diagnostic to proceed."
     ]
    }
   ],
   "source": [
    "// Load some helper functions, e.g. to load values from settings.json\n",
    "#!import config/Settings.cs \n",
    "// Import Semantic Kernel\n",
    "#r \"nuget: Microsoft.SemanticKernel, 1.8.0\"\n",
    "#r \"nuget: Microsoft.SemanticKernel.PromptTemplates.Handlebars, 1.8.0\"\n",
    "#r \"nuget: Microsoft.SemanticKernel.Plugins.Core,1.8.0-alpha\"\n",
    "using Microsoft.SemanticKernel;\n",
    "using Kernel = Microsoft.SemanticKernel.Kernel;\n",
    "using Microsoft.SemanticKernel.ChatCompletion;\n",
    "using Microsoft.SemanticKernel.PromptTemplates.Handlebars;\n",
    "using Microsoft.SemanticKernel.PromptTemplates;\n",
    "using Microsoft.SemanticKernel.Connectors.OpenAI;\n",
    "using Microsoft.SemanticKernel.Plugins.Core;\n",
    "\n",
    "//Create Kernel builder\n",
    "var builder = Kernel.CreateBuilder();\n",
    "\n",
    "// Configure AI service credentials used by the kernel\n",
    "var (useAzureOpenAI, model, azureEndpoint, apiKey, orgId) = Settings.LoadFromFile();\n",
    "\n",
    "if (useAzureOpenAI)\n",
    "    builder.AddAzureOpenAIChatCompletion(model, azureEndpoint, apiKey);\n",
    "else\n",
    "    builder.AddOpenAIChatCompletion(model, apiKey, orgId);\n",
    "\n",
    "var kernel = builder.Build();\n",
    "kernel.ImportPluginFromType<ConversationSummaryPlugin>();\n",
    "\n",
    "       var history = \"\"\"\n",
    "                  <message role=\"user\">I hate sending emails, no one ever reads them.</message>\n",
    "                  <message role=\"assistant\">I'm sorry to hear that. Messages may be a better way to communicate.</message>\n",
    "                  \"\"\";\n",
    "                  string request = \"I want to send an email to the marketing team celebrating their recent milestone.\";\n",
    "// Create a template for chat with settings\n",
    "var chat = kernel.CreateFunctionFromPrompt(\n",
    "    new PromptTemplateConfig()\n",
    "    {\n",
    "        Name = \"Chat\",\n",
    "        Description = \"Chat with the assistant.\",\n",
    "        Template = @\"{{ConversationSummaryPlugin.SummarizeConversation $history}}\n",
    "                    User: {{$request}}\n",
    "                    Assistant: \",\n",
    "        TemplateFormat = \"semantic-kernel\",\n",
    "        InputVariables =\n",
    "        [\n",
    "            new() { Name = \"history\", Description = \"The history of the conversation.\", IsRequired = false, Default = \"\" },\n",
    "            new() { Name = \"request\", Description = \"The user's request.\", IsRequired = true }\n",
    "        ],\n",
    "        ExecutionSettings =\n",
    "        {\n",
    "            {\n",
    "                \"default\",\n",
    "                new OpenAIPromptExecutionSettings()\n",
    "                {\n",
    "                    MaxTokens = 1000,\n",
    "                    Temperature = 0\n",
    "                }\n",
    "            },\n",
    "            {\n",
    "                \"gpt-3.5-turbo\", new OpenAIPromptExecutionSettings()\n",
    "                {\n",
    "                    ModelId = \"gpt-3.5-turbo-0613\",\n",
    "                    MaxTokens = 4000,\n",
    "                    Temperature = 0.2\n",
    "                }\n",
    "            },\n",
    "            {\n",
    "                \"gpt-4\",\n",
    "                new OpenAIPromptExecutionSettings()\n",
    "                {\n",
    "                    ModelId = \"gpt-4-1106-preview\",\n",
    "                    MaxTokens = 8000,\n",
    "                    Temperature = 0.3\n",
    "                }\n",
    "            }\n",
    "        }\n",
    "    }\n",
    ");\n",
    "\n",
    " // Get chat response\n",
    "            var chatResult = kernel.InvokeStreamingAsync<StreamingChatMessageContent>(\n",
    "                chat,\n",
    "                new()\n",
    "                {\n",
    "                    { \"request\", request },\n",
    "                    { \"history\", history }\n",
    "                }\n",
    "            );\n",
    "\n",
    "            // Stream the response\n",
    "            string message = \"\";\n",
    "            await foreach (var chunk in chatResult)\n",
    "            {\n",
    "                if (chunk.Role.HasValue)\n",
    "                {\n",
    "                    Console.Write(chunk.Role + \" > \");\n",
    "                }\n",
    "\n",
    "                message += chunk;\n",
    "                Console.Write(chunk);\n",
    "            }\n",
    "            Console.WriteLine();\n"
   ]
  }
 ],
 "metadata": {
  "kernelspec": {
   "display_name": ".NET (C#)",
   "language": "C#",
   "name": ".net-csharp"
  },
  "language_info": {
   "name": "polyglot-notebook"
  },
  "polyglot_notebook": {
   "kernelInfo": {
    "defaultKernelName": "csharp",
    "items": [
     {
      "aliases": [],
      "languageName": "csharp",
      "name": "csharp"
     }
    ]
   }
  }
 },
 "nbformat": 4,
 "nbformat_minor": 2
}
