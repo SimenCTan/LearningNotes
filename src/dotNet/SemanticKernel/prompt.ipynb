{
 "cells": [
  {
   "cell_type": "markdown",
   "metadata": {},
   "source": [
    "### This example demonstrates how to use prompts as described at"
   ]
  },
  {
   "cell_type": "code",
   "execution_count": 3,
   "metadata": {
    "dotnet_interactive": {
     "language": "csharp"
    },
    "polyglot_notebook": {
     "kernelName": "csharp"
    },
    "vscode": {
     "languageId": "polyglot-notebook"
    }
   },
   "outputs": [],
   "source": [
    "// Load some helper functions, e.g. to load values from settings.json\n",
    "#!import config/Settings.cs "
   ]
  },
  {
   "cell_type": "code",
   "execution_count": 1,
   "metadata": {
    "dotnet_interactive": {
     "language": "csharp"
    },
    "polyglot_notebook": {
     "kernelName": "csharp"
    },
    "vscode": {
     "languageId": "polyglot-notebook"
    }
   },
   "outputs": [
    {
     "data": {
      "text/html": [
       "<div><div></div><div></div><div><strong>Installed Packages</strong><ul><li><span>Microsoft.SemanticKernel, 1.8.0</span></li></ul></div></div>"
      ]
     },
     "metadata": {},
     "output_type": "display_data"
    }
   ],
   "source": [
    "// Import Semantic Kernel\n",
    "#r \"nuget: Microsoft.SemanticKernel, 1.8.0\""
   ]
  },
  {
   "cell_type": "markdown",
   "metadata": {},
   "source": [
    "### Step 3: Instantiate the Kernel"
   ]
  },
  {
   "cell_type": "code",
   "execution_count": 4,
   "metadata": {
    "dotnet_interactive": {
     "language": "csharp"
    },
    "polyglot_notebook": {
     "kernelName": "csharp"
    },
    "vscode": {
     "languageId": "polyglot-notebook"
    }
   },
   "outputs": [],
   "source": [
    "using Microsoft.SemanticKernel;\n",
    "using Kernel = Microsoft.SemanticKernel.Kernel;\n",
    "\n",
    "//Create Kernel builder\n",
    "var builder = Kernel.CreateBuilder();\n",
    "\n",
    "// Configure AI service credentials used by the kernel\n",
    "var (useAzureOpenAI, model, azureEndpoint, apiKey, orgId) = Settings.LoadFromFile();\n",
    "\n",
    "if (useAzureOpenAI)\n",
    "    builder.AddAzureOpenAIChatCompletion(model, azureEndpoint, apiKey);\n",
    "else\n",
    "    builder.AddOpenAIChatCompletion(model, apiKey, orgId);\n",
    "\n",
    "var kernel = builder.Build();"
   ]
  },
  {
   "cell_type": "markdown",
   "metadata": {},
   "source": [
    "### 0.0 Initial prompt"
   ]
  },
  {
   "cell_type": "code",
   "execution_count": 6,
   "metadata": {
    "dotnet_interactive": {
     "language": "csharp"
    },
    "polyglot_notebook": {
     "kernelName": "csharp"
    },
    "vscode": {
     "languageId": "polyglot-notebook"
    }
   },
   "outputs": [
    {
     "name": "stdout",
     "output_type": "stream",
     "text": [
      "0.0 Initial prompt\n",
      "The intent of this request is to draft an email to the marketing team in order to congratulate them on their recent milestone and celebrate their hard work and achievements.\n"
     ]
    }
   ],
   "source": [
    "string request = \"I want to send an email to the marketing team celebrating their recent milestone.\";\n",
    "string prompt = $\"What is the intent of this request? {request}\";\n",
    "\n",
    "/* Uncomment this code to make this example interactive\n",
    "// <InitialPrompt>\n",
    "Write(\"Your request: \");\n",
    "string request = ReadLine()!;\n",
    "string prompt = $\"What is the intent of this request? {request}\";\n",
    "// </InitialPrompt>\n",
    "*/\n",
    "\n",
    "Console.WriteLine(\"0.0 Initial prompt\");\n",
    "// <InvokeInitialPrompt>\n",
    "Console.WriteLine(await kernel.InvokePromptAsync(prompt));"
   ]
  },
  {
   "cell_type": "markdown",
   "metadata": {},
   "source": [
    "### 1.0 Make the prompt more specific"
   ]
  },
  {
   "cell_type": "code",
   "execution_count": 8,
   "metadata": {
    "dotnet_interactive": {
     "language": "csharp"
    },
    "polyglot_notebook": {
     "kernelName": "csharp"
    },
    "vscode": {
     "languageId": "polyglot-notebook"
    }
   },
   "outputs": [
    {
     "name": "stdout",
     "output_type": "stream",
     "text": [
      "1.0 Make the prompt more specific\n",
      "The intent of this request is to send an email to the marketing team celebrating their recent milestone. The appropriate action to choose would be SendEmail.\n"
     ]
    }
   ],
   "source": [
    "// <MoreSpecificPrompt>\n",
    "prompt = @$\"What is the intent of this request? {request}\n",
    "You can choose between SendEmail, SendMessage, CompleteTask, CreateDocument.\";\n",
    "// </MoreSpecificPrompt>\n",
    "\n",
    "Console.WriteLine(\"1.0 Make the prompt more specific\");\n",
    "Console.WriteLine(await kernel.InvokePromptAsync(prompt));"
   ]
  },
  {
   "cell_type": "markdown",
   "metadata": {},
   "source": [
    "### // 2.0 Add structure to the output with formatting"
   ]
  },
  {
   "cell_type": "code",
   "execution_count": 9,
   "metadata": {
    "vscode": {
     "languageId": "polyglot-notebook"
    }
   },
   "outputs": [
    {
     "name": "stdout",
     "output_type": "stream",
     "text": [
      "2.0 Add structure to the output with formatting\n",
      "SendEmail\n"
     ]
    }
   ],
   "source": [
    "// <StructuredPrompt>\n",
    "prompt = @$\"Instructions: What is the intent of this request?\n",
    "Choices: SendEmail, SendMessage, CompleteTask, CreateDocument.\n",
    "User Input: {request}\n",
    "Intent: \";\n",
    "// </StructuredPrompt>\n",
    " \n",
    "Console.WriteLine(\"2.0 Add structure to the output with formatting\");\n",
    "Console.WriteLine(await kernel.InvokePromptAsync(prompt));"
   ]
  },
  {
   "cell_type": "markdown",
   "metadata": {},
   "source": [
    "### 2.1 Add structure to the output with formatting (using Markdown and JSON)"
   ]
  },
  {
   "cell_type": "code",
   "execution_count": 10,
   "metadata": {
    "vscode": {
     "languageId": "polyglot-notebook"
    }
   },
   "outputs": [
    {
     "name": "stdout",
     "output_type": "stream",
     "text": [
      "2.1 Add structure to the output with formatting (using Markdown and JSON)\n",
      "{\n",
      "    \"intent\": \"SendEmail\"\n",
      "}\n"
     ]
    }
   ],
   "source": [
    "  // <FormattedPrompt>\n",
    "        prompt = $$\"\"\"\n",
    "                 ## Instructions\n",
    "                 Provide the intent of the request using the following format:\n",
    "                 \n",
    "                 ```json\n",
    "                 {\n",
    "                     \"intent\": {intent}\n",
    "                 }\n",
    "                 ```\n",
    "                 \n",
    "                 ## Choices\n",
    "                 You can choose between the following intents:\n",
    "                 \n",
    "                 ```json\n",
    "                 [\"SendEmail\", \"SendMessage\", \"CompleteTask\", \"CreateDocument\"]\n",
    "                 ```\n",
    "                 \n",
    "                 ## User Input\n",
    "                 The user input is:\n",
    "                 \n",
    "                 ```json\n",
    "                 {\n",
    "                     \"request\": \"{{request}}\"\n",
    "                 }\n",
    "                 ```\n",
    "                 \n",
    "                 ## Intent\n",
    "                 \"\"\";\n",
    "        // </FormattedPrompt>\n",
    "\n",
    "    Console.WriteLine(\"2.1 Add structure to the output with formatting (using Markdown and JSON)\");\n",
    "    Console.WriteLine(await kernel.InvokePromptAsync(prompt));"
   ]
  },
  {
   "cell_type": "markdown",
   "metadata": {},
   "source": [
    "### // 3.0 Provide examples with few-shot prompting"
   ]
  },
  {
   "cell_type": "code",
   "execution_count": null,
   "metadata": {
    "vscode": {
     "languageId": "polyglot-notebook"
    }
   },
   "outputs": [],
   "source": [
    "// <FewShotPrompt>\n",
    "        prompt = @$\"Instructions: What is the intent of this request?\n",
    "Choices: SendEmail, SendMessage, CompleteTask, CreateDocument.\n",
    "\n",
    "User Input: Can you send a very quick approval to the marketing team?\n",
    "Intent: SendMessage\n",
    "\n",
    "User Input: Can you send the full update to the marketing team?\n",
    "Intent: SendEmail\n",
    "\n",
    "User Input: {request}\n",
    "Intent: \";\n",
    "        // </FewShotPrompt>\n",
    "\n",
    "    Console.WriteLine(\"3.0 Provide examples with few-shot prompting\");\n",
    "    Console.WriteLine(await kernel.InvokePromptAsync(prompt));"
   ]
  },
  {
   "cell_type": "markdown",
   "metadata": {},
   "source": [
    "### 4.0 Tell the AI what to do to avoid doing something wrong"
   ]
  },
  {
   "cell_type": "code",
   "execution_count": null,
   "metadata": {
    "vscode": {
     "languageId": "polyglot-notebook"
    }
   },
   "outputs": [],
   "source": [
    " // <AvoidPrompt>\n",
    "        prompt = $\"\"\"\n",
    "                 Instructions: What is the intent of this request?\n",
    "                 If you don't know the intent, don't guess; instead respond with \"Unknown\".\n",
    "                 Choices: SendEmail, SendMessage, CompleteTask, CreateDocument, Unknown.\n",
    "\n",
    "                 User Input: Can you send a very quick approval to the marketing team?\n",
    "                 Intent: SendMessage\n",
    "\n",
    "                 User Input: Can you send the full update to the marketing team?\n",
    "                 Intent: SendEmail\n",
    "\n",
    "                 User Input: {request}\n",
    "                 Intent: \n",
    "                 \"\"\";\n",
    "        // </AvoidPrompt>\n",
    "\n",
    "    Console.WriteLine(\"4.0 Tell the AI what to do to avoid doing something wrong\");\n",
    "    Console.WriteLine(await kernel.InvokePromptAsync(prompt));"
   ]
  },
  {
   "cell_type": "markdown",
   "metadata": {},
   "source": [
    "### 5.0 Provide context to the AI"
   ]
  },
  {
   "cell_type": "code",
   "execution_count": 11,
   "metadata": {
    "vscode": {
     "languageId": "polyglot-notebook"
    }
   },
   "outputs": [
    {
     "name": "stdout",
     "output_type": "stream",
     "text": [
      "5.0 Provide context to the AI\n",
      "SendEmail\n"
     ]
    }
   ],
   "source": [
    "// <ContextPrompt>\n",
    "        string history = \"\"\"\n",
    "                         User input: I hate sending emails, no one ever reads them.\n",
    "                         AI response: I'm sorry to hear that. Messages may be a better way to communicate.\n",
    "                         \"\"\";\n",
    "\n",
    "        prompt = $\"\"\"\n",
    "                 Instructions: What is the intent of this request?\n",
    "                 If you don't know the intent, don't guess; instead respond with \"Unknown\".\n",
    "                 Choices: SendEmail, SendMessage, CompleteTask, CreateDocument, Unknown.\n",
    "                 \n",
    "                 User Input: Can you send a very quick approval to the marketing team?\n",
    "                 Intent: SendMessage\n",
    "                 \n",
    "                 User Input: Can you send the full update to the marketing team?\n",
    "                 Intent: SendEmail\n",
    "                 \n",
    "                 {history}\n",
    "                 User Input: {request}\n",
    "                 Intent: \n",
    "                 \"\"\";\n",
    "        // </ContextPrompt>\n",
    "\n",
    "    Console.WriteLine(\"5.0 Provide context to the AI\");\n",
    "    Console.WriteLine(await kernel.InvokePromptAsync(prompt));"
   ]
  },
  {
   "cell_type": "markdown",
   "metadata": {},
   "source": [
    "### 6.0 Using message roles in chat completion prompts"
   ]
  },
  {
   "cell_type": "code",
   "execution_count": null,
   "metadata": {
    "vscode": {
     "languageId": "polyglot-notebook"
    }
   },
   "outputs": [],
   "source": [
    "// <RolePrompt>\n",
    "        history = \"\"\"\n",
    "                  <message role=\"user\">I hate sending emails, no one ever reads them.</message>\n",
    "                  <message role=\"assistant\">I'm sorry to hear that. Messages may be a better way to communicate.</message>\n",
    "                  \"\"\";\n",
    "\n",
    "        prompt = $\"\"\"\n",
    "                 <message role=\"system\">Instructions: What is the intent of this request?\n",
    "                 If you don't know the intent, don't guess; instead respond with \"Unknown\".\n",
    "                 Choices: SendEmail, SendMessage, CompleteTask, CreateDocument, Unknown.</message>\n",
    "                 \n",
    "                 <message role=\"user\">Can you send a very quick approval to the marketing team?</message>\n",
    "                 <message role=\"system\">Intent:</message>\n",
    "                 <message role=\"assistant\">SendMessage</message>\n",
    "                 \n",
    "                 <message role=\"user\">Can you send the full update to the marketing team?</message>\n",
    "                 <message role=\"system\">Intent:</message>\n",
    "                 <message role=\"assistant\">SendEmail</message>\n",
    "                 \n",
    "                 {history}\n",
    "                 <message role=\"user\">{request}</message>\n",
    "                 <message role=\"system\">Intent:</message>\n",
    "                 \"\"\";\n",
    "        // </RolePrompt>\n",
    "\n",
    "    Console.WriteLine(\"6.0 Using message roles in chat completion prompts\");\n",
    "        Console.WriteLine(await kernel.InvokePromptAsync(prompt));"
   ]
  },
  {
   "cell_type": "markdown",
   "metadata": {},
   "source": [
    "###  7.0 Give your AI words of encouragement"
   ]
  },
  {
   "cell_type": "code",
   "execution_count": null,
   "metadata": {
    "vscode": {
     "languageId": "polyglot-notebook"
    }
   },
   "outputs": [],
   "source": [
    " // <BonusPrompt>\n",
    "        history = \"\"\"\n",
    "                  <message role=\"user\">I hate sending emails, no one ever reads them.</message>\n",
    "                  <message role=\"assistant\">I'm sorry to hear that. Messages may be a better way to communicate.</message>\n",
    "                  \"\"\";\n",
    "\n",
    "        prompt = $\"\"\"\n",
    "                 <message role=\"system\">Instructions: What is the intent of this request?\n",
    "                 If you don't know the intent, don't guess; instead respond with \"Unknown\".\n",
    "                 Choices: SendEmail, SendMessage, CompleteTask, CreateDocument, Unknown.\n",
    "                 Bonus: You'll get $20 if you get this right.</message>\n",
    "                \n",
    "                 <message role=\"user\">Can you send a very quick approval to the marketing team?</message>\n",
    "                 <message role=\"system\">Intent:</message>\n",
    "                 <message role=\"assistant\">SendMessage</message>\n",
    "                \n",
    "                 <message role=\"user\">Can you send the full update to the marketing team?</message>\n",
    "                 <message role=\"system\">Intent:</message>\n",
    "                 <message role=\"assistant\">SendEmail</message>\n",
    "                \n",
    "                 {history}\n",
    "                 <message role=\"user\">{request}</message>\n",
    "                 <message role=\"system\">Intent:</message>\n",
    "                 \"\"\";\n",
    "        // </BonusPrompt>\n",
    "\n",
    "        Console.WriteLine(\"7.0 Give your AI words of encouragement\");\n",
    "        Console.WriteLine(await kernel.InvokePromptAsync(prompt));"
   ]
  },
  {
   "cell_type": "markdown",
   "metadata": {},
   "source": [
    "### This example demonstrates how to templatize prompts as described at\n",
    "/// https://learn.microsoft.com/semantic-kernel/prompts/templatizing-prompts"
   ]
  },
  {
   "cell_type": "code",
   "execution_count": 16,
   "metadata": {
    "vscode": {
     "languageId": "polyglot-notebook"
    }
   },
   "outputs": [
    {
     "data": {
      "text/html": [
       "<div><div></div><div></div><div><strong>Installed Packages</strong><ul><li><span>Microsoft.SemanticKernel.PromptTemplates.Handlebars, 1.8.0</span></li></ul></div></div>"
      ]
     },
     "metadata": {},
     "output_type": "display_data"
    },
    {
     "name": "stdout",
     "output_type": "stream",
     "text": [
      "User > "
     ]
    },
    {
     "ename": "Error",
     "evalue": "Command cancelled.",
     "output_type": "error",
     "traceback": [
      "Command cancelled."
     ]
    }
   ],
   "source": [
    "// Import Semantic Kernel\n",
    "#r \"nuget: Microsoft.SemanticKernel.PromptTemplates.Handlebars, 1.8.0\"\n",
    "using Microsoft.SemanticKernel.ChatCompletion;\n",
    "using Microsoft.SemanticKernel.PromptTemplates.Handlebars;\n",
    "\n",
    "  // Create a Semantic Kernel template for chat\n",
    "        var chat = kernel.CreateFunctionFromPrompt(\n",
    "            @\"{{$history}}\n",
    "            User: {{$request}}\n",
    "            Assistant: \");\n",
    "  // Create choices\n",
    "        List<string> choices = [\"ContinueConversation\", \"EndConversation\"];\n",
    "\n",
    "        // Create few-shot examples\n",
    "        List<ChatHistory> fewShotExamples =\n",
    "        [\n",
    "            [\n",
    "                new ChatMessageContent(AuthorRole.User, \"Can you send a very quick approval to the marketing team?\"),\n",
    "                new ChatMessageContent(AuthorRole.System, \"Intent:\"),\n",
    "                new ChatMessageContent(AuthorRole.Assistant, \"ContinueConversation\")\n",
    "            ],\n",
    "            [\n",
    "                new ChatMessageContent(AuthorRole.User, \"Thanks, I'm done for now\"),\n",
    "                new ChatMessageContent(AuthorRole.System, \"Intent:\"),\n",
    "                new ChatMessageContent(AuthorRole.Assistant, \"EndConversation\")\n",
    "            ]\n",
    "        ];\n",
    "\n",
    "        // Create handlebars template for intent\n",
    "        var getIntent = kernel.CreateFunctionFromPrompt(\n",
    "            new()\n",
    "            {\n",
    "                Template = \"\"\"\n",
    "                           <message role=\"system\">Instructions: What is the intent of this request?\n",
    "                           Do not explain the reasoning, just reply back with the intent. If you are unsure, reply with {{choices[0]}}.\n",
    "                           Choices: {{choices}}.</message>\n",
    "\n",
    "                           {{#each fewShotExamples}}\n",
    "                               {{#each this}}\n",
    "                                   <message role=\"{{role}}\">{{content}}</message>\n",
    "                               {{/each}}\n",
    "                           {{/each}}\n",
    "\n",
    "                           {{#each chatHistory}}\n",
    "                               <message role=\"{{role}}\">{{content}}</message>\n",
    "                           {{/each}}\n",
    "\n",
    "                           <message role=\"user\">{{request}}</message>\n",
    "                           <message role=\"system\">Intent:</message>\n",
    "                           \"\"\",\n",
    "                TemplateFormat = \"handlebars\"\n",
    "            },\n",
    "            new HandlebarsPromptTemplateFactory()\n",
    "        );\n",
    "\n",
    "        ChatHistory history = [];\n",
    "\n",
    "        // Start the chat loop\n",
    "        while (true)\n",
    "        {\n",
    "            // Get user input\n",
    "            Console.Write(\"User > \");\n",
    "            var request = Console.ReadLine();\n",
    "\n",
    "            // Invoke prompt\n",
    "            var intent = await kernel.InvokeAsync(\n",
    "                getIntent,\n",
    "                new()\n",
    "                {\n",
    "                    { \"request\", request },\n",
    "                    { \"choices\", choices },\n",
    "                    { \"history\", history },\n",
    "                    { \"fewShotExamples\", fewShotExamples }\n",
    "                }\n",
    "            );\n",
    "\n",
    "            // End the chat if the intent is \"Stop\"\n",
    "            if (intent.ToString() == \"EndConversation\")\n",
    "            {\n",
    "                break;\n",
    "            }\n",
    "\n",
    "            // Get chat response\n",
    "            var chatResult = kernel.InvokeStreamingAsync<StreamingChatMessageContent>(\n",
    "                chat,\n",
    "                new()\n",
    "                {\n",
    "                    { \"request\", request },\n",
    "                    { \"history\", string.Join(\"\\n\", history.Select(x => x.Role + \": \" + x.Content)) }\n",
    "                }\n",
    "            );\n",
    "\n",
    "            // Stream the response\n",
    "            string message = \"\";\n",
    "            await foreach (var chunk in chatResult)\n",
    "            {\n",
    "                if (chunk.Role.HasValue)\n",
    "                {\n",
    "                    Console.Write(chunk.Role + \" > \");\n",
    "                }\n",
    "\n",
    "                message += chunk;\n",
    "                Console.Write(chunk);\n",
    "            }\n",
    "            Console.WriteLine();\n",
    "\n",
    "            // Append to history\n",
    "            history.AddUserMessage(request!);\n",
    "            history.AddAssistantMessage(message);\n",
    "        }\n",
    "    \n"
   ]
  }
 ],
 "metadata": {
  "language_info": {
   "name": "python"
  }
 },
 "nbformat": 4,
 "nbformat_minor": 2
}
