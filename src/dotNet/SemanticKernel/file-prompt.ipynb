{
 "cells": [
  {
   "cell_type": "markdown",
   "metadata": {},
   "source": [
    "create your prompts in a separate file "
   ]
  },
  {
   "cell_type": "code",
   "execution_count": null,
   "metadata": {
    "dotnet_interactive": {
     "language": "csharp"
    },
    "polyglot_notebook": {
     "kernelName": "csharp"
    }
   },
   "outputs": [],
   "source": [
    "// Load some helper functions, e.g. to load values from settings.json\n",
    "#!import config/Settings.cs \n",
    "// Import Semantic Kernel\n",
    "#r \"nuget: Microsoft.SemanticKernel, 1.8.0\"\n",
    "#r \"nuget: Microsoft.SemanticKernel.PromptTemplates.Handlebars, 1.8.0\"\n",
    "#r \"nuget: Microsoft.SemanticKernel.Plugins.Core,1.8.0-alpha\"\n",
    "\n",
    "using Microsoft.SemanticKernel;\n",
    "using Microsoft.SemanticKernel.ChatCompletion;\n",
    "using Microsoft.SemanticKernel.Plugins.Core;\n",
    "\n",
    "//Create Kernel builder\n",
    "var builder = Kernel.CreateBuilder();\n",
    "\n",
    "// Configure AI service credentials used by the kernel\n",
    "var (useAzureOpenAI, model, azureEndpoint, apiKey, orgId) = Settings.LoadFromFile();\n",
    "\n",
    "if (useAzureOpenAI)\n",
    "    builder.AddAzureOpenAIChatCompletion(model, azureEndpoint, apiKey);\n",
    "else\n",
    "    builder.AddOpenAIChatCompletion(model, apiKey, orgId);\n",
    "\n",
    "        builder.Plugins.AddFromType<ConversationSummaryPlugin>();\n",
    "        Kernel kernel = builder.Build();\n",
    "\n",
    "        // Load prompts\n",
    "        var prompts = kernel.CreatePluginFromPromptDirectory(\"./Prompts\");\n",
    "\n",
    "\n",
    "        // Start the chat loop\n",
    "        Console.Write(\"User > \");\n",
    "        string? userInput;\n",
    "        while ((userInput = Console.ReadLine()) != null)\n",
    "        {\n",
    "            // Invoke handlebars prompt\n",
    "            var intent = await kernel.InvokeAsync(\n",
    "            var chatResult = kernel.InvokeStreamingAsync<StreamingChatMessageContent>(\n",
    "                prompts[\"chat\"],\n",
    "                new()\n",
    "                {\n",
    "                    { \"request\", userInput },\n",
    "                    { \"history\", string.Join(\"\\n\", history.Select(x => x.Role + \": \" + x.Content)) }\n",
    "                }\n",
    "            );\n",
    "\n",
    "            // Stream the response\n",
    "            string message = \"\";\n",
    "            await foreach (var chunk in chatResult)\n",
    "            {\n",
    "                if (chunk.Role.HasValue)\n",
    "                {\n",
    "                    Console.Write(chunk.Role + \" > \");\n",
    "                }\n",
    "                message += chunk;\n",
    "                Console.Write(chunk);\n",
    "            }\n",
    "            Console.WriteLine();\n",
    "\n",
    "            // Append to history\n",
    "            history.AddUserMessage(userInput);\n",
    "            history.AddAssistantMessage(message);\n",
    "\n",
    "            // Get user input again\n",
    "            Console.Write(\"User > \");\n",
    "        }\n",
    "    }"
   ]
  }
 ],
 "metadata": {
  "kernelspec": {
   "display_name": ".NET (C#)",
   "language": "C#",
   "name": ".net-csharp"
  },
  "language_info": {
   "name": "polyglot-notebook"
  },
  "polyglot_notebook": {
   "kernelInfo": {
    "defaultKernelName": "csharp",
    "items": [
     {
      "aliases": [],
      "languageName": "csharp",
      "name": "csharp"
     }
    ]
   }
  }
 },
 "nbformat": 4,
 "nbformat_minor": 2
}
