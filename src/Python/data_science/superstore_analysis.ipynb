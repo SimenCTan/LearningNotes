{
 "cells": [
  {
   "cell_type": "code",
   "execution_count": 1,
   "metadata": {},
   "outputs": [],
   "source": [
    "import pandas as pd\n",
    "import numpy as np\n",
    "import matplotlib.pyplot as plt\n",
    "import seaborn as sns"
   ]
  },
  {
   "cell_type": "code",
   "execution_count": 5,
   "metadata": {},
   "outputs": [
    {
     "name": "stdout",
     "output_type": "stream",
     "text": [
      "<class 'pandas.core.frame.DataFrame'>\n",
      "RangeIndex: 9994 entries, 0 to 9993\n",
      "Data columns (total 21 columns):\n",
      " #   Column         Non-Null Count  Dtype  \n",
      "---  ------         --------------  -----  \n",
      " 0   Row ID         9994 non-null   int64  \n",
      " 1   Order ID       9994 non-null   object \n",
      " 2   Order Date     9994 non-null   object \n",
      " 3   Ship Date      9994 non-null   object \n",
      " 4   Ship Mode      9994 non-null   object \n",
      " 5   Customer ID    9994 non-null   object \n",
      " 6   Customer Name  9994 non-null   object \n",
      " 7   Segment        9994 non-null   object \n",
      " 8   Country        9994 non-null   object \n",
      " 9   City           9994 non-null   object \n",
      " 10  State          9994 non-null   object \n",
      " 11  Postal Code    9994 non-null   int64  \n",
      " 12  Region         9994 non-null   object \n",
      " 13  Product ID     9994 non-null   object \n",
      " 14  Category       9994 non-null   object \n",
      " 15  Sub-Category   9994 non-null   object \n",
      " 16  Product Name   9994 non-null   object \n",
      " 17  Sales          9994 non-null   float64\n",
      " 18  Quantity       9994 non-null   int64  \n",
      " 19  Discount       9994 non-null   float64\n",
      " 20  Profit         9994 non-null   float64\n",
      "dtypes: float64(3), int64(3), object(15)\n",
      "memory usage: 1.6+ MB\n"
     ]
    },
    {
     "data": {
      "text/html": [
       "<div>\n",
       "<style scoped>\n",
       "    .dataframe tbody tr th:only-of-type {\n",
       "        vertical-align: middle;\n",
       "    }\n",
       "\n",
       "    .dataframe tbody tr th {\n",
       "        vertical-align: top;\n",
       "    }\n",
       "\n",
       "    .dataframe thead th {\n",
       "        text-align: right;\n",
       "    }\n",
       "</style>\n",
       "<table border=\"1\" class=\"dataframe\">\n",
       "  <thead>\n",
       "    <tr style=\"text-align: right;\">\n",
       "      <th></th>\n",
       "      <th>Row ID</th>\n",
       "      <th>Order ID</th>\n",
       "      <th>Order Date</th>\n",
       "      <th>Ship Date</th>\n",
       "      <th>Ship Mode</th>\n",
       "      <th>Customer ID</th>\n",
       "      <th>Customer Name</th>\n",
       "      <th>Segment</th>\n",
       "      <th>Country</th>\n",
       "      <th>City</th>\n",
       "      <th>...</th>\n",
       "      <th>Postal Code</th>\n",
       "      <th>Region</th>\n",
       "      <th>Product ID</th>\n",
       "      <th>Category</th>\n",
       "      <th>Sub-Category</th>\n",
       "      <th>Product Name</th>\n",
       "      <th>Sales</th>\n",
       "      <th>Quantity</th>\n",
       "      <th>Discount</th>\n",
       "      <th>Profit</th>\n",
       "    </tr>\n",
       "  </thead>\n",
       "  <tbody>\n",
       "    <tr>\n",
       "      <th>0</th>\n",
       "      <td>1</td>\n",
       "      <td>CA-2016-152156</td>\n",
       "      <td>11/8/2016</td>\n",
       "      <td>11/11/2016</td>\n",
       "      <td>Second Class</td>\n",
       "      <td>CG-12520</td>\n",
       "      <td>Claire Gute</td>\n",
       "      <td>Consumer</td>\n",
       "      <td>United States</td>\n",
       "      <td>Henderson</td>\n",
       "      <td>...</td>\n",
       "      <td>42420</td>\n",
       "      <td>South</td>\n",
       "      <td>FUR-BO-10001798</td>\n",
       "      <td>Furniture</td>\n",
       "      <td>Bookcases</td>\n",
       "      <td>Bush Somerset Collection Bookcase</td>\n",
       "      <td>261.96</td>\n",
       "      <td>2</td>\n",
       "      <td>0.0</td>\n",
       "      <td>41.9136</td>\n",
       "    </tr>\n",
       "    <tr>\n",
       "      <th>1</th>\n",
       "      <td>2</td>\n",
       "      <td>CA-2016-152156</td>\n",
       "      <td>11/8/2016</td>\n",
       "      <td>11/11/2016</td>\n",
       "      <td>Second Class</td>\n",
       "      <td>CG-12520</td>\n",
       "      <td>Claire Gute</td>\n",
       "      <td>Consumer</td>\n",
       "      <td>United States</td>\n",
       "      <td>Henderson</td>\n",
       "      <td>...</td>\n",
       "      <td>42420</td>\n",
       "      <td>South</td>\n",
       "      <td>FUR-CH-10000454</td>\n",
       "      <td>Furniture</td>\n",
       "      <td>Chairs</td>\n",
       "      <td>Hon Deluxe Fabric Upholstered Stacking Chairs,...</td>\n",
       "      <td>731.94</td>\n",
       "      <td>3</td>\n",
       "      <td>0.0</td>\n",
       "      <td>219.5820</td>\n",
       "    </tr>\n",
       "  </tbody>\n",
       "</table>\n",
       "<p>2 rows × 21 columns</p>\n",
       "</div>"
      ],
      "text/plain": [
       "   Row ID        Order ID Order Date   Ship Date     Ship Mode Customer ID  \\\n",
       "0       1  CA-2016-152156  11/8/2016  11/11/2016  Second Class    CG-12520   \n",
       "1       2  CA-2016-152156  11/8/2016  11/11/2016  Second Class    CG-12520   \n",
       "\n",
       "  Customer Name   Segment        Country       City  ... Postal Code  Region  \\\n",
       "0   Claire Gute  Consumer  United States  Henderson  ...       42420   South   \n",
       "1   Claire Gute  Consumer  United States  Henderson  ...       42420   South   \n",
       "\n",
       "        Product ID   Category Sub-Category  \\\n",
       "0  FUR-BO-10001798  Furniture    Bookcases   \n",
       "1  FUR-CH-10000454  Furniture       Chairs   \n",
       "\n",
       "                                        Product Name   Sales  Quantity  \\\n",
       "0                  Bush Somerset Collection Bookcase  261.96         2   \n",
       "1  Hon Deluxe Fabric Upholstered Stacking Chairs,...  731.94         3   \n",
       "\n",
       "   Discount    Profit  \n",
       "0       0.0   41.9136  \n",
       "1       0.0  219.5820  \n",
       "\n",
       "[2 rows x 21 columns]"
      ]
     },
     "execution_count": 5,
     "metadata": {},
     "output_type": "execute_result"
    }
   ],
   "source": [
    "df = pd.read_csv(r\"./data/superstore.csv\",encoding=\"ISO-8859-1\")\n",
    "df.info()\n",
    "df.head(2)"
   ]
  },
  {
   "cell_type": "code",
   "execution_count": 7,
   "metadata": {},
   "outputs": [
    {
     "name": "stdout",
     "output_type": "stream",
     "text": [
      "<class 'pandas.core.frame.DataFrame'>\n",
      "RangeIndex: 9994 entries, 0 to 9993\n",
      "Data columns (total 21 columns):\n",
      " #   Column         Non-Null Count  Dtype  \n",
      "---  ------         --------------  -----  \n",
      " 0   Row ID         9994 non-null   int64  \n",
      " 1   Order ID       9994 non-null   object \n",
      " 2   Order Date     9994 non-null   object \n",
      " 3   Ship Date      9994 non-null   object \n",
      " 4   Ship Mode      9994 non-null   object \n",
      " 5   Customer ID    9994 non-null   object \n",
      " 6   Customer Name  9994 non-null   object \n",
      " 7   Segment        9994 non-null   object \n",
      " 8   Country        9994 non-null   object \n",
      " 9   City           9994 non-null   object \n",
      " 10  State          9994 non-null   object \n",
      " 11  Postal Code    9994 non-null   int64  \n",
      " 12  Region         9994 non-null   object \n",
      " 13  Product ID     9994 non-null   object \n",
      " 14  Category       9994 non-null   object \n",
      " 15  Sub-Category   9994 non-null   object \n",
      " 16  Product Name   9994 non-null   object \n",
      " 17  Sales          9994 non-null   float64\n",
      " 18  Quantity       9994 non-null   int64  \n",
      " 19  Discount       9994 non-null   float64\n",
      " 20  Profit         9994 non-null   float64\n",
      "dtypes: float64(3), int64(3), object(15)\n",
      "memory usage: 1.6+ MB\n"
     ]
    },
    {
     "name": "stderr",
     "output_type": "stream",
     "text": [
      "/var/folders/kr/095g6hwn3398zmthh7nc03500000gn/T/ipykernel_77913/3855682483.py:2: FutureWarning: Downcasting object dtype arrays on .fillna, .ffill, .bfill is deprecated and will change in a future version. Call result.infer_objects(copy=False) instead. To opt-in to the future behavior, set `pd.set_option('future.no_silent_downcasting', True)`\n",
      "  df['Postal Code'].fillna(0,inplace=True)\n"
     ]
    }
   ],
   "source": [
    "# filling null values\n",
    "df['Postal Code'].fillna(0,inplace=True)\n",
    "df['Postal Code'] = df['Postal Code'].astype(int)\n",
    "df.info()"
   ]
  },
  {
   "cell_type": "code",
   "execution_count": 8,
   "metadata": {},
   "outputs": [
    {
     "name": "stdout",
     "output_type": "stream",
     "text": [
      "no duplicate rows found\n"
     ]
    },
    {
     "data": {
      "text/html": [
       "<div>\n",
       "<style scoped>\n",
       "    .dataframe tbody tr th:only-of-type {\n",
       "        vertical-align: middle;\n",
       "    }\n",
       "\n",
       "    .dataframe tbody tr th {\n",
       "        vertical-align: top;\n",
       "    }\n",
       "\n",
       "    .dataframe thead th {\n",
       "        text-align: right;\n",
       "    }\n",
       "</style>\n",
       "<table border=\"1\" class=\"dataframe\">\n",
       "  <thead>\n",
       "    <tr style=\"text-align: right;\">\n",
       "      <th></th>\n",
       "      <th>Row ID</th>\n",
       "      <th>Order ID</th>\n",
       "      <th>Order Date</th>\n",
       "      <th>Ship Date</th>\n",
       "      <th>Ship Mode</th>\n",
       "      <th>Customer ID</th>\n",
       "      <th>Customer Name</th>\n",
       "      <th>Segment</th>\n",
       "      <th>Country</th>\n",
       "      <th>City</th>\n",
       "      <th>...</th>\n",
       "      <th>Postal Code</th>\n",
       "      <th>Region</th>\n",
       "      <th>Product ID</th>\n",
       "      <th>Category</th>\n",
       "      <th>Sub-Category</th>\n",
       "      <th>Product Name</th>\n",
       "      <th>Sales</th>\n",
       "      <th>Quantity</th>\n",
       "      <th>Discount</th>\n",
       "      <th>Profit</th>\n",
       "    </tr>\n",
       "  </thead>\n",
       "  <tbody>\n",
       "    <tr>\n",
       "      <th>0</th>\n",
       "      <td>1</td>\n",
       "      <td>CA-2016-152156</td>\n",
       "      <td>11/8/2016</td>\n",
       "      <td>11/11/2016</td>\n",
       "      <td>Second Class</td>\n",
       "      <td>CG-12520</td>\n",
       "      <td>Claire Gute</td>\n",
       "      <td>Consumer</td>\n",
       "      <td>United States</td>\n",
       "      <td>Henderson</td>\n",
       "      <td>...</td>\n",
       "      <td>0</td>\n",
       "      <td>South</td>\n",
       "      <td>FUR-BO-10001798</td>\n",
       "      <td>Furniture</td>\n",
       "      <td>Bookcases</td>\n",
       "      <td>Bush Somerset Collection Bookcase</td>\n",
       "      <td>261.9600</td>\n",
       "      <td>2</td>\n",
       "      <td>0.00</td>\n",
       "      <td>41.9136</td>\n",
       "    </tr>\n",
       "    <tr>\n",
       "      <th>1</th>\n",
       "      <td>2</td>\n",
       "      <td>CA-2016-152156</td>\n",
       "      <td>11/8/2016</td>\n",
       "      <td>11/11/2016</td>\n",
       "      <td>Second Class</td>\n",
       "      <td>CG-12520</td>\n",
       "      <td>Claire Gute</td>\n",
       "      <td>Consumer</td>\n",
       "      <td>United States</td>\n",
       "      <td>Henderson</td>\n",
       "      <td>...</td>\n",
       "      <td>0</td>\n",
       "      <td>South</td>\n",
       "      <td>FUR-CH-10000454</td>\n",
       "      <td>Furniture</td>\n",
       "      <td>Chairs</td>\n",
       "      <td>Hon Deluxe Fabric Upholstered Stacking Chairs,...</td>\n",
       "      <td>731.9400</td>\n",
       "      <td>3</td>\n",
       "      <td>0.00</td>\n",
       "      <td>219.5820</td>\n",
       "    </tr>\n",
       "    <tr>\n",
       "      <th>2</th>\n",
       "      <td>3</td>\n",
       "      <td>CA-2016-138688</td>\n",
       "      <td>6/12/2016</td>\n",
       "      <td>6/16/2016</td>\n",
       "      <td>Second Class</td>\n",
       "      <td>DV-13045</td>\n",
       "      <td>Darrin Van Huff</td>\n",
       "      <td>Corporate</td>\n",
       "      <td>United States</td>\n",
       "      <td>Los Angeles</td>\n",
       "      <td>...</td>\n",
       "      <td>0</td>\n",
       "      <td>West</td>\n",
       "      <td>OFF-LA-10000240</td>\n",
       "      <td>Office Supplies</td>\n",
       "      <td>Labels</td>\n",
       "      <td>Self-Adhesive Address Labels for Typewriters b...</td>\n",
       "      <td>14.6200</td>\n",
       "      <td>2</td>\n",
       "      <td>0.00</td>\n",
       "      <td>6.8714</td>\n",
       "    </tr>\n",
       "    <tr>\n",
       "      <th>3</th>\n",
       "      <td>4</td>\n",
       "      <td>US-2015-108966</td>\n",
       "      <td>10/11/2015</td>\n",
       "      <td>10/18/2015</td>\n",
       "      <td>Standard Class</td>\n",
       "      <td>SO-20335</td>\n",
       "      <td>Sean O'Donnell</td>\n",
       "      <td>Consumer</td>\n",
       "      <td>United States</td>\n",
       "      <td>Fort Lauderdale</td>\n",
       "      <td>...</td>\n",
       "      <td>0</td>\n",
       "      <td>South</td>\n",
       "      <td>FUR-TA-10000577</td>\n",
       "      <td>Furniture</td>\n",
       "      <td>Tables</td>\n",
       "      <td>Bretford CR4500 Series Slim Rectangular Table</td>\n",
       "      <td>957.5775</td>\n",
       "      <td>5</td>\n",
       "      <td>0.45</td>\n",
       "      <td>-383.0310</td>\n",
       "    </tr>\n",
       "    <tr>\n",
       "      <th>4</th>\n",
       "      <td>5</td>\n",
       "      <td>US-2015-108966</td>\n",
       "      <td>10/11/2015</td>\n",
       "      <td>10/18/2015</td>\n",
       "      <td>Standard Class</td>\n",
       "      <td>SO-20335</td>\n",
       "      <td>Sean O'Donnell</td>\n",
       "      <td>Consumer</td>\n",
       "      <td>United States</td>\n",
       "      <td>Fort Lauderdale</td>\n",
       "      <td>...</td>\n",
       "      <td>0</td>\n",
       "      <td>South</td>\n",
       "      <td>OFF-ST-10000760</td>\n",
       "      <td>Office Supplies</td>\n",
       "      <td>Storage</td>\n",
       "      <td>Eldon Fold 'N Roll Cart System</td>\n",
       "      <td>22.3680</td>\n",
       "      <td>2</td>\n",
       "      <td>0.20</td>\n",
       "      <td>2.5164</td>\n",
       "    </tr>\n",
       "    <tr>\n",
       "      <th>...</th>\n",
       "      <td>...</td>\n",
       "      <td>...</td>\n",
       "      <td>...</td>\n",
       "      <td>...</td>\n",
       "      <td>...</td>\n",
       "      <td>...</td>\n",
       "      <td>...</td>\n",
       "      <td>...</td>\n",
       "      <td>...</td>\n",
       "      <td>...</td>\n",
       "      <td>...</td>\n",
       "      <td>...</td>\n",
       "      <td>...</td>\n",
       "      <td>...</td>\n",
       "      <td>...</td>\n",
       "      <td>...</td>\n",
       "      <td>...</td>\n",
       "      <td>...</td>\n",
       "      <td>...</td>\n",
       "      <td>...</td>\n",
       "      <td>...</td>\n",
       "    </tr>\n",
       "    <tr>\n",
       "      <th>95</th>\n",
       "      <td>96</td>\n",
       "      <td>US-2017-109484</td>\n",
       "      <td>11/6/2017</td>\n",
       "      <td>11/12/2017</td>\n",
       "      <td>Standard Class</td>\n",
       "      <td>RB-19705</td>\n",
       "      <td>Roger Barcio</td>\n",
       "      <td>Home Office</td>\n",
       "      <td>United States</td>\n",
       "      <td>Portland</td>\n",
       "      <td>...</td>\n",
       "      <td>0</td>\n",
       "      <td>West</td>\n",
       "      <td>OFF-BI-10004738</td>\n",
       "      <td>Office Supplies</td>\n",
       "      <td>Binders</td>\n",
       "      <td>Flexible Leather- Look Classic Collection Ring...</td>\n",
       "      <td>5.6820</td>\n",
       "      <td>1</td>\n",
       "      <td>0.70</td>\n",
       "      <td>-3.7880</td>\n",
       "    </tr>\n",
       "    <tr>\n",
       "      <th>96</th>\n",
       "      <td>97</td>\n",
       "      <td>CA-2017-161018</td>\n",
       "      <td>11/9/2017</td>\n",
       "      <td>11/11/2017</td>\n",
       "      <td>Second Class</td>\n",
       "      <td>PN-18775</td>\n",
       "      <td>Parhena Norris</td>\n",
       "      <td>Home Office</td>\n",
       "      <td>United States</td>\n",
       "      <td>New York City</td>\n",
       "      <td>...</td>\n",
       "      <td>0</td>\n",
       "      <td>East</td>\n",
       "      <td>FUR-FU-10000629</td>\n",
       "      <td>Furniture</td>\n",
       "      <td>Furnishings</td>\n",
       "      <td>9-3/4 Diameter Round Wall Clock</td>\n",
       "      <td>96.5300</td>\n",
       "      <td>7</td>\n",
       "      <td>0.00</td>\n",
       "      <td>40.5426</td>\n",
       "    </tr>\n",
       "    <tr>\n",
       "      <th>97</th>\n",
       "      <td>98</td>\n",
       "      <td>CA-2017-157833</td>\n",
       "      <td>6/17/2017</td>\n",
       "      <td>6/20/2017</td>\n",
       "      <td>First Class</td>\n",
       "      <td>KD-16345</td>\n",
       "      <td>Katherine Ducich</td>\n",
       "      <td>Consumer</td>\n",
       "      <td>United States</td>\n",
       "      <td>San Francisco</td>\n",
       "      <td>...</td>\n",
       "      <td>0</td>\n",
       "      <td>West</td>\n",
       "      <td>OFF-BI-10001721</td>\n",
       "      <td>Office Supplies</td>\n",
       "      <td>Binders</td>\n",
       "      <td>Trimflex Flexible Post Binders</td>\n",
       "      <td>51.3120</td>\n",
       "      <td>3</td>\n",
       "      <td>0.20</td>\n",
       "      <td>17.9592</td>\n",
       "    </tr>\n",
       "    <tr>\n",
       "      <th>98</th>\n",
       "      <td>99</td>\n",
       "      <td>CA-2016-149223</td>\n",
       "      <td>9/6/2016</td>\n",
       "      <td>9/11/2016</td>\n",
       "      <td>Standard Class</td>\n",
       "      <td>ER-13855</td>\n",
       "      <td>Elpida Rittenbach</td>\n",
       "      <td>Corporate</td>\n",
       "      <td>United States</td>\n",
       "      <td>Saint Paul</td>\n",
       "      <td>...</td>\n",
       "      <td>0</td>\n",
       "      <td>Central</td>\n",
       "      <td>OFF-AP-10000358</td>\n",
       "      <td>Office Supplies</td>\n",
       "      <td>Appliances</td>\n",
       "      <td>Fellowes Basic Home/Office Series Surge Protec...</td>\n",
       "      <td>77.8800</td>\n",
       "      <td>6</td>\n",
       "      <td>0.00</td>\n",
       "      <td>22.5852</td>\n",
       "    </tr>\n",
       "    <tr>\n",
       "      <th>99</th>\n",
       "      <td>100</td>\n",
       "      <td>CA-2016-158568</td>\n",
       "      <td>8/29/2016</td>\n",
       "      <td>9/2/2016</td>\n",
       "      <td>Standard Class</td>\n",
       "      <td>RB-19465</td>\n",
       "      <td>Rick Bensley</td>\n",
       "      <td>Home Office</td>\n",
       "      <td>United States</td>\n",
       "      <td>Chicago</td>\n",
       "      <td>...</td>\n",
       "      <td>0</td>\n",
       "      <td>Central</td>\n",
       "      <td>OFF-PA-10003256</td>\n",
       "      <td>Office Supplies</td>\n",
       "      <td>Paper</td>\n",
       "      <td>Avery Personal Creations Heavyweight Cards</td>\n",
       "      <td>64.6240</td>\n",
       "      <td>7</td>\n",
       "      <td>0.20</td>\n",
       "      <td>22.6184</td>\n",
       "    </tr>\n",
       "  </tbody>\n",
       "</table>\n",
       "<p>100 rows × 21 columns</p>\n",
       "</div>"
      ],
      "text/plain": [
       "    Row ID        Order ID  Order Date   Ship Date       Ship Mode  \\\n",
       "0        1  CA-2016-152156   11/8/2016  11/11/2016    Second Class   \n",
       "1        2  CA-2016-152156   11/8/2016  11/11/2016    Second Class   \n",
       "2        3  CA-2016-138688   6/12/2016   6/16/2016    Second Class   \n",
       "3        4  US-2015-108966  10/11/2015  10/18/2015  Standard Class   \n",
       "4        5  US-2015-108966  10/11/2015  10/18/2015  Standard Class   \n",
       "..     ...             ...         ...         ...             ...   \n",
       "95      96  US-2017-109484   11/6/2017  11/12/2017  Standard Class   \n",
       "96      97  CA-2017-161018   11/9/2017  11/11/2017    Second Class   \n",
       "97      98  CA-2017-157833   6/17/2017   6/20/2017     First Class   \n",
       "98      99  CA-2016-149223    9/6/2016   9/11/2016  Standard Class   \n",
       "99     100  CA-2016-158568   8/29/2016    9/2/2016  Standard Class   \n",
       "\n",
       "   Customer ID      Customer Name      Segment        Country  \\\n",
       "0     CG-12520        Claire Gute     Consumer  United States   \n",
       "1     CG-12520        Claire Gute     Consumer  United States   \n",
       "2     DV-13045    Darrin Van Huff    Corporate  United States   \n",
       "3     SO-20335     Sean O'Donnell     Consumer  United States   \n",
       "4     SO-20335     Sean O'Donnell     Consumer  United States   \n",
       "..         ...                ...          ...            ...   \n",
       "95    RB-19705       Roger Barcio  Home Office  United States   \n",
       "96    PN-18775     Parhena Norris  Home Office  United States   \n",
       "97    KD-16345   Katherine Ducich     Consumer  United States   \n",
       "98    ER-13855  Elpida Rittenbach    Corporate  United States   \n",
       "99    RB-19465       Rick Bensley  Home Office  United States   \n",
       "\n",
       "               City  ... Postal Code   Region       Product ID  \\\n",
       "0         Henderson  ...           0    South  FUR-BO-10001798   \n",
       "1         Henderson  ...           0    South  FUR-CH-10000454   \n",
       "2       Los Angeles  ...           0     West  OFF-LA-10000240   \n",
       "3   Fort Lauderdale  ...           0    South  FUR-TA-10000577   \n",
       "4   Fort Lauderdale  ...           0    South  OFF-ST-10000760   \n",
       "..              ...  ...         ...      ...              ...   \n",
       "95         Portland  ...           0     West  OFF-BI-10004738   \n",
       "96    New York City  ...           0     East  FUR-FU-10000629   \n",
       "97    San Francisco  ...           0     West  OFF-BI-10001721   \n",
       "98       Saint Paul  ...           0  Central  OFF-AP-10000358   \n",
       "99          Chicago  ...           0  Central  OFF-PA-10003256   \n",
       "\n",
       "           Category Sub-Category  \\\n",
       "0         Furniture    Bookcases   \n",
       "1         Furniture       Chairs   \n",
       "2   Office Supplies       Labels   \n",
       "3         Furniture       Tables   \n",
       "4   Office Supplies      Storage   \n",
       "..              ...          ...   \n",
       "95  Office Supplies      Binders   \n",
       "96        Furniture  Furnishings   \n",
       "97  Office Supplies      Binders   \n",
       "98  Office Supplies   Appliances   \n",
       "99  Office Supplies        Paper   \n",
       "\n",
       "                                         Product Name     Sales  Quantity  \\\n",
       "0                   Bush Somerset Collection Bookcase  261.9600         2   \n",
       "1   Hon Deluxe Fabric Upholstered Stacking Chairs,...  731.9400         3   \n",
       "2   Self-Adhesive Address Labels for Typewriters b...   14.6200         2   \n",
       "3       Bretford CR4500 Series Slim Rectangular Table  957.5775         5   \n",
       "4                      Eldon Fold 'N Roll Cart System   22.3680         2   \n",
       "..                                                ...       ...       ...   \n",
       "95  Flexible Leather- Look Classic Collection Ring...    5.6820         1   \n",
       "96                    9-3/4 Diameter Round Wall Clock   96.5300         7   \n",
       "97                     Trimflex Flexible Post Binders   51.3120         3   \n",
       "98  Fellowes Basic Home/Office Series Surge Protec...   77.8800         6   \n",
       "99         Avery Personal Creations Heavyweight Cards   64.6240         7   \n",
       "\n",
       "    Discount    Profit  \n",
       "0       0.00   41.9136  \n",
       "1       0.00  219.5820  \n",
       "2       0.00    6.8714  \n",
       "3       0.45 -383.0310  \n",
       "4       0.20    2.5164  \n",
       "..       ...       ...  \n",
       "95      0.70   -3.7880  \n",
       "96      0.00   40.5426  \n",
       "97      0.20   17.9592  \n",
       "98      0.00   22.5852  \n",
       "99      0.20   22.6184  \n",
       "\n",
       "[100 rows x 21 columns]"
      ]
     },
     "execution_count": 8,
     "metadata": {},
     "output_type": "execute_result"
    }
   ],
   "source": [
    "if df.duplicated().sum() > 0:\n",
    "    print(\"duplicate rows found\")\n",
    "else:\n",
    "    print(\"no duplicate rows found\")\n",
    "df.head(10)"
   ]
  },
  {
   "cell_type": "code",
   "execution_count": 9,
   "metadata": {},
   "outputs": [
    {
     "name": "stdout",
     "output_type": "stream",
     "text": [
      "['Consumer' 'Corporate' 'Home Office']\n",
      "       Segment  count\n",
      "0     Consumer   5191\n",
      "1    Corporate   3020\n",
      "2  Home Office   1783\n",
      "  Type Of Customer  count\n",
      "0         Consumer   5191\n",
      "1        Corporate   3020\n",
      "2      Home Office   1783\n"
     ]
    },
    {
     "data": {
      "text/plain": [
       "([<matplotlib.patches.Wedge at 0x10f08abd0>,\n",
       "  <matplotlib.patches.Wedge at 0x10fe519d0>,\n",
       "  <matplotlib.patches.Wedge at 0x10fe57c80>],\n",
       " [Text(-0.06704023782468152, 1.0979551933081833, 'Consumer'),\n",
       "  Text(-0.5268842285426254, -0.9656049967316049, 'Corporate'),\n",
       "  Text(0.9316986876474538, -0.5847542692755757, 'Home Office')],\n",
       " [Text(-0.03656740244982628, 0.5988846508953727, '51.9%'),\n",
       "  Text(-0.28739139738688657, -0.5266936345808754, '30.2%'),\n",
       "  Text(0.5081992841713383, -0.318956874150314, '17.8%')])"
      ]
     },
     "execution_count": 9,
     "metadata": {},
     "output_type": "execute_result"
    },
    {
     "data": {
      "image/png": "[encoded data removed]",
      "text/plain": [
       "<Figure size 640x480 with 1 Axes>"
      ]
     },
     "metadata": {},
     "output_type": "display_data"
    }
   ],
   "source": [
    "# types of customers\n",
    "types_of_customers = df[\"Segment\"].unique()\n",
    "print(types_of_customers)\n",
    "number_of_customers = df[\"Segment\"].value_counts().reset_index()\n",
    "print(number_of_customers)\n",
    "number_of_customers = number_of_customers.rename(columns={'Segment' : 'Type Of Customer'})\n",
    "print(number_of_customers)\n",
    "\n",
    "# plotting the types of customers\n",
    "plt.pie(number_of_customers['count'], labels=number_of_customers['Type Of Customer'], autopct='%1.1f%%')"
   ]
  },
  {
   "cell_type": "code",
   "execution_count": 10,
   "metadata": {},
   "outputs": [
    {
     "name": "stdout",
     "output_type": "stream",
     "text": [
      "  Type Of Customer   Total Sales\n",
      "0         Consumer  1.161401e+06\n",
      "1        Corporate  7.061464e+05\n",
      "2      Home Office  4.296531e+05\n"
     ]
    },
    {
     "data": {
      "text/plain": [
       "<BarContainer object of 3 artists>"
      ]
     },
     "execution_count": 10,
     "metadata": {},
     "output_type": "execute_result"
    },
    {
     "data": {
      "image/png": "[encoded data removed]",
      "text/plain": [
       "<Figure size 640x480 with 1 Axes>"
      ]
     },
     "metadata": {},
     "output_type": "display_data"
    }
   ],
   "source": [
    "sales_per_segment = df.groupby('Segment')['Sales'].sum().reset_index()\n",
    "sales_per_segment = sales_per_segment.rename(columns={'Segment' : 'Type Of Customer', 'Sales' : 'Total Sales'})\n",
    "print(sales_per_segment)\n",
    "plt.bar(sales_per_segment['Type Of Customer'], sales_per_segment['Total Sales'])"
   ]
  },
  {
   "cell_type": "code",
   "execution_count": 14,
   "metadata": {},
   "outputs": [
    {
     "name": "stdout",
     "output_type": "stream",
     "text": [
      "  Customer ID        Customer Name      Segment  Total Orders\n",
      "0    WB-21850        William Brown     Consumer            37\n",
      "1    MA-17560         Matt Abelman  Home Office            34\n",
      "2    JL-15835             John Lee     Consumer            34\n",
      "3    PP-18955           Paul Prost  Home Office            34\n",
      "4    SV-20365          Seth Vernon     Consumer            32\n",
      "5    JD-15895     Jonathan Doherty    Corporate            32\n",
      "6    CK-12205  Chloris Kastensmidt     Consumer            32\n",
      "7    EH-13765         Edward Hooks    Corporate            32\n",
      "8    EP-13915           Emily Phan     Consumer            31\n",
      "9    ZC-21910     Zuschuss Carroll     Consumer            31\n"
     ]
    }
   ],
   "source": [
    "customers_order_frequency = df.groupby(['Customer ID', 'Customer Name', 'Segment'])['Order ID'].count().reset_index()\n",
    "customers_order_frequency.rename(columns={'Order ID' : 'Total Orders'}, inplace=True)\n",
    "repeat_customers = customers_order_frequency[customers_order_frequency['Total Orders'] > 1]\n",
    "repeat_customers_sorted = repeat_customers.sort_values('Total Orders', ascending=False)\n",
    "print(repeat_customers_sorted.head(10).reset_index(drop=True))"
   ]
  },
  {
   "cell_type": "code",
   "execution_count": 15,
   "metadata": {},
   "outputs": [
    {
     "name": "stdout",
     "output_type": "stream",
     "text": [
      "  Customer ID       Customer Name      Segment      Sales\n",
      "0    SM-20320         Sean Miller  Home Office  25043.050\n",
      "1    TC-20980        Tamara Chand    Corporate  19052.218\n",
      "2    RB-19360        Raymond Buch     Consumer  15117.339\n",
      "3    TA-21385        Tom Ashbrook  Home Office  14595.620\n",
      "4    AB-10105       Adrian Barton     Consumer  14473.571\n",
      "5    KL-16645        Ken Lonsdale     Consumer  14175.229\n",
      "6    SC-20095        Sanjit Chand     Consumer  14142.334\n",
      "7    HL-15040        Hunter Lopez     Consumer  12873.298\n",
      "8    SE-20110        Sanjit Engle     Consumer  12209.438\n",
      "9    CC-12370  Christopher Conant     Consumer  12129.072\n"
     ]
    }
   ],
   "source": [
    "customer_sales = df.groupby([\"Customer ID\", \"Customer Name\",\"Segment\"])[\"Sales\"].sum().reset_index()\n",
    "top_sepnders = customer_sales.sort_values('Sales', ascending=False)\n",
    "print(top_sepnders.head(10).reset_index(drop=True))"
   ]
  },
  {
   "cell_type": "code",
   "execution_count": 16,
   "metadata": {},
   "outputs": [
    {
     "name": "stdout",
     "output_type": "stream",
     "text": [
      "['Second Class' 'Standard Class' 'First Class' 'Same Day']\n"
     ]
    }
   ],
   "source": [
    "types_of_shipmode=df[\"Ship Mode\"].unique()\n",
    "print(types_of_shipmode)"
   ]
  },
  {
   "cell_type": "code",
   "execution_count": 19,
   "metadata": {},
   "outputs": [
    {
     "name": "stdout",
     "output_type": "stream",
     "text": [
      "  Mode of Shipment  Use Frequency\n",
      "0   Standard Class           5968\n",
      "1     Second Class           1945\n",
      "2      First Class           1538\n",
      "3         Same Day            543\n"
     ]
    },
    {
     "data": {
      "text/plain": [
       "([<matplotlib.patches.Wedge at 0x10ff68530>,\n",
       "  <matplotlib.patches.Wedge at 0x10ff827b0>,\n",
       "  <matplotlib.patches.Wedge at 0x10ff7d490>,\n",
       "  <matplotlib.patches.Wedge at 0x10ff7ce60>],\n",
       " [Text(-0.3305657516984502, 1.0491550332548754, 'Standard Class'),\n",
       "  Text(-0.3760776532491148, -1.0337144667298794, 'Second Class'),\n",
       "  Text(0.7465350845565396, -0.8078894525404825, 'First Class'),\n",
       "  Text(1.0840145085529618, -0.18684899048879292, 'Same Day')],\n",
       " [Text(-0.18030859183551826, 0.5722663817753865, '59.7%'),\n",
       "  Text(-0.20513326540860807, -0.5638442545799341, '19.5%'),\n",
       "  Text(0.4072009552126579, -0.4406669741129904, '15.4%'),\n",
       "  Text(0.5912806410288882, -0.10191763117570521, '5.4%')])"
      ]
     },
     "execution_count": 19,
     "metadata": {},
     "output_type": "execute_result"
    },
    {
     "data": {
      "image/png": "[encoded data removed]",
      "text/plain": [
       "<Figure size 640x480 with 1 Axes>"
      ]
     },
     "metadata": {},
     "output_type": "display_data"
    }
   ],
   "source": [
    "shipping_model = df[\"Ship Mode\"].value_counts().reset_index()\n",
    "shipping_model = shipping_model.rename(columns={'index' : 'Use Frequency', 'Ship Mode' : 'Mode of Shipment',\"count\":\"Use Frequency\"})\n",
    "print(shipping_model)\n",
    "plt.pie(shipping_model['Use Frequency'], labels=shipping_model['Mode of Shipment'], autopct='%1.1f%%')"
   ]
  },
  {
   "cell_type": "code",
   "execution_count": 20,
   "metadata": {},
   "outputs": [
    {
     "name": "stdout",
     "output_type": "stream",
     "text": [
      "  Number of Customers  count\n",
      "0          California   2001\n",
      "1            New York   1128\n",
      "2               Texas    985\n",
      "3        Pennsylvania    587\n",
      "4          Washington    506\n",
      "5            Illinois    492\n",
      "6                Ohio    469\n",
      "7             Florida    383\n",
      "8            Michigan    255\n",
      "9      North Carolina    249\n",
      "            City  count\n",
      "0  New York City    915\n",
      "1    Los Angeles    747\n",
      "2   Philadelphia    537\n",
      "3  San Francisco    510\n",
      "4        Seattle    428\n",
      "5        Houston    377\n",
      "6        Chicago    314\n",
      "7       Columbus    222\n",
      "8      San Diego    170\n",
      "9    Springfield    163\n",
      "          State        Sales\n",
      "0    California  457687.6315\n",
      "1      New York  310876.2710\n",
      "2         Texas  170188.0458\n",
      "3    Washington  138641.2700\n",
      "4  Pennsylvania  116511.9140\n",
      "5       Florida   89473.7080\n",
      "6      Illinois   80166.1010\n",
      "7          Ohio   78258.1360\n",
      "8      Michigan   76269.6140\n",
      "9      Virginia   70636.7200\n"
     ]
    }
   ],
   "source": [
    "state = df[\"State\"].value_counts().reset_index()\n",
    "state = state.rename(columns={'index' : 'State', 'State' : 'Number of Customers'})\n",
    "print(state.head(10))\n",
    "city = df[\"City\"].value_counts().reset_index()\n",
    "print(city.head(10))\n",
    "state_sales = df.groupby('State')['Sales'].sum().reset_index()\n",
    "top_sales = state_sales.sort_values('Sales', ascending=False)\n",
    "print(top_sales.head(10).reset_index(drop=True))"
   ]
  },
  {
   "cell_type": "code",
   "execution_count": 21,
   "metadata": {},
   "outputs": [
    {
     "name": "stdout",
     "output_type": "stream",
     "text": [
      "            City        Sales\n",
      "0  New York City  256368.1610\n",
      "1    Los Angeles  175851.3410\n",
      "2        Seattle  119540.7420\n",
      "3  San Francisco  112669.0920\n",
      "4   Philadelphia  109077.0130\n",
      "5        Houston   64504.7604\n",
      "6        Chicago   48539.5410\n",
      "7      San Diego   47521.0290\n",
      "8   Jacksonville   44713.1830\n",
      "9    Springfield   43054.3420\n"
     ]
    }
   ],
   "source": [
    "city_sales = df.groupby('City')['Sales'].sum().reset_index()\n",
    "top_city_sales = city_sales.sort_values('Sales', ascending=False)\n",
    "print(top_city_sales.head(10).reset_index(drop=True))\n"
   ]
  },
  {
   "cell_type": "code",
   "execution_count": 22,
   "metadata": {},
   "outputs": [
    {
     "name": "stdout",
     "output_type": "stream",
     "text": [
      "     State           City     Sales\n",
      "0  Alabama         Auburn  1766.830\n",
      "1  Alabama        Decatur  3374.820\n",
      "2  Alabama       Florence  1997.350\n",
      "3  Alabama         Hoover   525.850\n",
      "4  Alabama     Huntsville  2484.370\n",
      "5  Alabama         Mobile  5462.990\n",
      "6  Alabama     Montgomery  3722.730\n",
      "7  Alabama     Tuscaloosa   175.700\n",
      "8  Arizona       Avondale   946.808\n",
      "9  Arizona  Bullhead City    22.288\n"
     ]
    }
   ],
   "source": [
    "state_city_sales = df.groupby(['State', 'City'])['Sales'].sum().reset_index()\n",
    "print(state_city_sales.head(10))"
   ]
  },
  {
   "cell_type": "code",
   "execution_count": 23,
   "metadata": {},
   "outputs": [
    {
     "name": "stdout",
     "output_type": "stream",
     "text": [
      "['Furniture' 'Office Supplies' 'Technology']\n",
      "['Bookcases' 'Chairs' 'Labels' 'Tables' 'Storage' 'Furnishings' 'Art'\n",
      " 'Phones' 'Binders' 'Appliances' 'Paper' 'Accessories' 'Envelopes'\n",
      " 'Fasteners' 'Supplies' 'Machines' 'Copiers']\n",
      "          Category  Sub-Category\n",
      "1  Office Supplies             9\n",
      "0        Furniture             4\n",
      "2       Technology             4\n",
      "           Category Sub-Category        Sales\n",
      "0         Furniture    Bookcases  114879.9963\n",
      "1         Furniture       Chairs  328449.1030\n",
      "2         Furniture  Furnishings   91705.1640\n",
      "3         Furniture       Tables  206965.5320\n",
      "4   Office Supplies   Appliances  107532.1610\n",
      "5   Office Supplies          Art   27118.7920\n",
      "6   Office Supplies      Binders  203412.7330\n",
      "7   Office Supplies    Envelopes   16476.4020\n",
      "8   Office Supplies    Fasteners    3024.2800\n",
      "9   Office Supplies       Labels   12486.3120\n",
      "10  Office Supplies        Paper   78479.2060\n",
      "11  Office Supplies      Storage  223843.6080\n",
      "12  Office Supplies     Supplies   46673.5380\n",
      "13       Technology  Accessories  167380.3180\n",
      "14       Technology      Copiers  149528.0300\n",
      "15       Technology     Machines  189238.6310\n",
      "16       Technology       Phones  330007.0540\n",
      "          Category        Sales\n",
      "2       Technology  836154.0330\n",
      "0        Furniture  741999.7953\n",
      "1  Office Supplies  719047.0320\n"
     ]
    },
    {
     "data": {
      "text/plain": [
       "([<matplotlib.patches.Wedge at 0x10ff870b0>,\n",
       "  <matplotlib.patches.Wedge at 0x10ff7a870>,\n",
       "  <matplotlib.patches.Wedge at 0x10ff87440>],\n",
       " [Text(0.5806250883943506, 0.9342775319609546, 'Furniture'),\n",
       "  Text(-1.0908936259884885, 0.14124835141582348, 'Office Supplies'),\n",
       "  Text(0.45584989144183646, -1.0010998334194579, 'Technology')],\n",
       " [Text(0.31670459366964576, 0.509605926524157, '32.3%'),\n",
       "  Text(-0.5950328869028119, 0.07704455531772189, '31.3%'),\n",
       "  Text(0.24864539533191077, -0.5460544545924314, '36.4%')])"
      ]
     },
     "execution_count": 23,
     "metadata": {},
     "output_type": "execute_result"
    },
    {
     "data": {
      "image/png": "[encoded data removed]",
      "text/plain": [
       "<Figure size 640x480 with 1 Axes>"
      ]
     },
     "metadata": {},
     "output_type": "display_data"
    }
   ],
   "source": [
    "product_category = df[\"Category\"].unique()\n",
    "print(product_category)\n",
    "product_subcategory = df[\"Sub-Category\"].unique()\n",
    "print(product_subcategory)\n",
    "subcategory_count = df.groupby('Category')['Sub-Category'].nunique().reset_index()\n",
    "subcategory_count = subcategory_count.sort_values('Sub-Category', ascending=False)\n",
    "print(subcategory_count)\n",
    "\n",
    "# sales per category\n",
    "subcategory_count_sales = df.groupby([\"Category\", \"Sub-Category\"])[\"Sales\"].sum().reset_index()\n",
    "subcategory_count_sales.sort_values('Sales', ascending=False)\n",
    "print(subcategory_count_sales)\n",
    "\n",
    "# products with highest sales\n",
    "product_category_sales = df.groupby('Category')['Sales'].sum().reset_index()\n",
    "print(product_category_sales.sort_values('Sales', ascending=False))\n",
    "plt.pie(product_category_sales['Sales'], labels=product_category_sales['Category'], autopct='%1.1f%%')"
   ]
  },
  {
   "cell_type": "code",
   "execution_count": 24,
   "metadata": {},
   "outputs": [
    {
     "data": {
      "text/plain": [
       "<BarContainer object of 17 artists>"
      ]
     },
     "execution_count": 24,
     "metadata": {},
     "output_type": "execute_result"
    },
    {
     "data": {
      "image/png": "[encoded data removed]",
      "text/plain": [
       "<Figure size 640x480 with 1 Axes>"
      ]
     },
     "metadata": {},
     "output_type": "display_data"
    }
   ],
   "source": [
    "subcategory_count_sales= subcategory_count_sales.sort_values('Sales', ascending=True)\n",
    "plt.barh(subcategory_count_sales['Sub-Category'], subcategory_count_sales['Sales'])"
   ]
  },
  {
   "cell_type": "code",
   "execution_count": 27,
   "metadata": {},
   "outputs": [
    {
     "name": "stdout",
     "output_type": "stream",
     "text": [
      "   Year  Total Sales\n",
      "0  2014  484247.4981\n",
      "1  2015  470532.5090\n",
      "2  2016  609205.5980\n",
      "3  2017  733215.2552\n"
     ]
    },
    {
     "data": {
      "text/plain": [
       "[<matplotlib.lines.Line2D at 0x10ed7d2b0>]"
      ]
     },
     "execution_count": 27,
     "metadata": {},
     "output_type": "execute_result"
    },
    {
     "data": {
      "image/png": "[encoded data removed]",
      "text/plain": [
       "<Figure size 640x480 with 1 Axes>"
      ]
     },
     "metadata": {},
     "output_type": "display_data"
    }
   ],
   "source": [
    "df['Order Date'] = pd.to_datetime(df['Order Date'],dayfirst=True,format='mixed')\n",
    "yearly_sales = df.groupby(df['Order Date'].dt.year)['Sales'].sum().reset_index()\n",
    "yearly_sales.rename(columns={'Order Date' : 'Year',\"Sales\":\"Total Sales\"}, inplace=True)\n",
    "print(yearly_sales)\n",
    "plt.bar(yearly_sales['Year'], yearly_sales['Total Sales'])\n",
    "\n",
    "# plot\n",
    "plt.plot(yearly_sales['Year'], yearly_sales['Total Sales'], marker='o',linestyle='--', color='r')\n"
   ]
  },
  {
   "cell_type": "code",
   "execution_count": 30,
   "metadata": {},
   "outputs": [
    {
     "name": "stdout",
     "output_type": "stream",
     "text": [
      "     Quarter  Total Sales\n",
      "0 2015-03-31   90952.3496\n",
      "1 2015-06-30   97852.8812\n",
      "2 2015-09-30  145554.2330\n",
      "3 2015-12-31  136173.0452\n"
     ]
    },
    {
     "name": "stderr",
     "output_type": "stream",
     "text": [
      "/var/folders/kr/095g6hwn3398zmthh7nc03500000gn/T/ipykernel_77913/1702423509.py:4: FutureWarning: 'Q' is deprecated and will be removed in a future version, please use 'QE' instead.\n",
      "  quarterly_sales = year_sales.resample(\"Q\",on=\"Order Date\")[\"Sales\"].sum().reset_index()\n"
     ]
    },
    {
     "data": {
      "image/png": "[encoded data removed]",
      "text/plain": [
       "<Figure size 640x480 with 1 Axes>"
      ]
     },
     "metadata": {},
     "output_type": "display_data"
    }
   ],
   "source": [
    "# yearly sales\n",
    "df[\"Order Date\"]=pd.to_datetime(df[\"Order Date\"],dayfirst=True,format='mixed')\n",
    "year_sales = df[df[\"Order Date\"].dt.year == 2015]\n",
    "quarterly_sales = year_sales.resample(\"Q\",on=\"Order Date\")[\"Sales\"].sum().reset_index()\n",
    "quarterly_sales.rename(columns={'Order Date' : 'Quarter',\"Sales\":\"Total Sales\"}, inplace=True)\n",
    "print(quarterly_sales)\n",
    "\n",
    "plt.plot(quarterly_sales['Quarter'], quarterly_sales['Total Sales'], marker='o',linestyle='--', color='r')\n",
    "plt.tight_layout()\n",
    "plt.xticks(rotation=75)\n",
    "plt.show()"
   ]
  },
  {
   "cell_type": "code",
   "execution_count": 31,
   "metadata": {},
   "outputs": [
    {
     "name": "stdout",
     "output_type": "stream",
     "text": [
      "        Month  Total Sales\n",
      "0  2016-01-31   38048.1840\n",
      "1  2016-02-29   49238.4100\n",
      "2  2016-03-31   49612.0450\n",
      "3  2016-04-30   45192.2780\n",
      "4  2016-05-31   64964.3218\n",
      "5  2016-06-30   38991.9430\n",
      "6  2016-07-31   42773.3950\n",
      "7  2016-08-31   46339.9884\n",
      "8  2016-09-30   41985.1423\n",
      "9  2016-10-31   52268.1500\n",
      "10 2016-11-30   66837.5850\n",
      "11 2016-12-31   72954.1555\n"
     ]
    },
    {
     "name": "stderr",
     "output_type": "stream",
     "text": [
      "/var/folders/kr/095g6hwn3398zmthh7nc03500000gn/T/ipykernel_77913/3551332806.py:3: FutureWarning: 'M' is deprecated and will be removed in a future version, please use 'ME' instead.\n",
      "  monthly_sales = year_sales.resample(\"M\",on=\"Order Date\")[\"Sales\"].sum().reset_index()\n"
     ]
    },
    {
     "data": {
      "text/plain": [
       "[<matplotlib.lines.Line2D at 0x11a46e3c0>]"
      ]
     },
     "execution_count": 31,
     "metadata": {},
     "output_type": "execute_result"
    },
    {
     "data": {
      "image/png": "[encoded data removed]",
      "text/plain": [
       "<Figure size 640x480 with 1 Axes>"
      ]
     },
     "metadata": {},
     "output_type": "display_data"
    }
   ],
   "source": [
    "df[\"Order Date\"]=pd.to_datetime(df[\"Order Date\"],dayfirst=True,format='mixed')\n",
    "year_sales = df[df[\"Order Date\"].dt.year == 2016]\n",
    "monthly_sales = year_sales.resample(\"M\",on=\"Order Date\")[\"Sales\"].sum().reset_index()\n",
    "monthly_sales.rename(columns={'Order Date' : 'Month',\"Sales\":\"Total Sales\"}, inplace=True)\n",
    "print(monthly_sales)\n",
    "plt.plot(monthly_sales['Month'], monthly_sales['Total Sales'], marker='o',linestyle='--', color='r')"
   ]
  }
 ],
 "metadata": {
  "kernelspec": {
   "display_name": "pytest",
   "language": "python",
   "name": "python3"
  },
  "language_info": {
   "codemirror_mode": {
    "name": "ipython",
    "version": 3
   },
   "file_extension": ".py",
   "mimetype": "text/x-python",
   "name": "python",
   "nbconvert_exporter": "python",
   "pygments_lexer": "ipython3",
   "version": "3.12.4"
  }
 },
 "nbformat": 4,
 "nbformat_minor": 2
}
