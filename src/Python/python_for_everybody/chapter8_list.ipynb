{
 "cells": [
  {
   "cell_type": "markdown",
   "metadata": {},
   "source": [
    "在Python中，列表（list）是一种有序、可变、允许重复元素的数据结构。下面是关于Python中列表的定义、用法和列表间的操作的详细说明：\n",
    "\n",
    "### 定义列表\n",
    "\n",
    "在Python中，列表可以通过方括号 \\([]\\) 来定义，其中包含逗号分隔的元素。例如：\n",
    "\n",
    "```python\n",
    "my_list = [1, 2, 3, 4, 5]\n",
    "```\n",
    "\n",
    "### 基本用法\n",
    "\n",
    "1. **访问元素**：可以通过索引访问列表中的元素，索引从0开始。例如，`my_list[0]`将返回列表中的第一个元素。\n",
    "\n",
    "2. **添加元素**：可以使用 `append()` 方法向列表末尾添加新元素，或者使用 `insert()` 方法在指定位置插入元素。\n",
    "\n",
    "3. **删除元素**：可以使用 `remove()` 方法删除指定值的元素，或者使用 `pop()` 方法删除指定索引位置的元素。\n",
    "\n",
    "4. **切片**：可以使用切片操作符 `:` 来获取列表的子集。例如，`my_list[1:3]`将返回索引1到2的元素子列表。\n",
    "\n",
    "### 列表间的操作\n",
    "\n",
    "1. **合并列表**：可以使用 `+` 运算符将两个列表合并为一个新列表。例如：\n",
    "\n",
    "```python\n",
    "list1 = [1, 2, 3]\n",
    "list2 = [4, 5, 6]\n",
    "combined_list = list1 + list2\n",
    "```\n",
    "\n",
    "2. **重复列表**：可以使用 `*` 运算符重复列表中的元素。例如：\n",
    "\n",
    "```python\n",
    "repeated_list = [1, 2] * 3  # 结果为 [1, 2, 1, 2, 1, 2]\n",
    "```\n",
    "\n",
    "3. **列表切片**：可以使用切片操作符 `:` 对列表进行切片操作。例如：\n",
    "\n",
    "```python\n",
    "my_list = [1, 2, 3, 4, 5]\n",
    "sliced_list = my_list[1:4]  # 结果为 [2, 3, 4]\n",
    "```\n",
    "\n",
    "4. **列表拼接**：可以使用 `extend()` 方法将一个列表的元素添加到另一个列表的末尾。例如：\n",
    "\n",
    "```python\n",
    "list1 = [1, 2, 3]\n",
    "list2 = [4, 5, 6]\n",
    "list1.extend(list2)  # 现在list1为 [1, 2, 3, 4, 5, 6]\n",
    "```\n",
    "\n",
    "5. **列表解析**：使用列表解析可以快速生成新的列表。例如：\n",
    "\n",
    "```python\n",
    "squared_numbers = [x**2 for x in range(5)]  # 结果为 [0, 1, 4, 9, 16]\n",
    "```\n",
    "\n",
    "以上是关于Python中列表的定义、基本用法以及列表间的操作的详细说明。列表是Python中非常常用且灵活的数据结构，能够帮助你有效地组织和操作数据。"
   ]
  },
  {
   "cell_type": "code",
   "execution_count": 8,
   "metadata": {},
   "outputs": [
    {
     "name": "stdout",
     "output_type": "stream",
     "text": [
      "['chuck', 'fred', '10']\n",
      "['chuck', 'fred', 'jan']\n",
      "False\n",
      "True\n",
      "jan\n",
      "chuck\n"
     ]
    }
   ],
   "source": [
    "stuff = list()\n",
    "stuff.append('chuck')\n",
    "stuff.append('fred')\n",
    "stuff.append(\"10\")\n",
    "print(stuff)\n",
    "stuff.append('jan')\n",
    "stuff.pop(2)\n",
    "print(stuff)\n",
    "print(10 in stuff)\n",
    "print(20 not in stuff)\n",
    "print(max(stuff))\n",
    "print(min(stuff))\n",
    "# print(sum(stuff))"
   ]
  },
  {
   "cell_type": "code",
   "execution_count": 9,
   "metadata": {},
   "outputs": [
    {
     "name": "stdout",
     "output_type": "stream",
     "text": [
      "17.0 5 3.4\n"
     ]
    }
   ],
   "source": [
    "# sum input value\n",
    "total = 0\n",
    "count = 0\n",
    "while True:\n",
    "    inp = input('Enter a number: ')\n",
    "    if inp == 'done':\n",
    "        break\n",
    "    value = float(inp)\n",
    "    total = total + value\n",
    "    count = count + 1\n",
    "\n",
    "print(total, count, total/count)"
   ]
  },
  {
   "cell_type": "code",
   "execution_count": 10,
   "metadata": {},
   "outputs": [
    {
     "name": "stdout",
     "output_type": "stream",
     "text": [
      "['With', 'three', 'words']\n",
      "3\n",
      "With\n"
     ]
    }
   ],
   "source": [
    "# string with list\n",
    "abc = 'With three words'\n",
    "stuff = abc.split()\n",
    "other_sutff = abc.split(';')\n",
    "print(stuff)\n",
    "print(len(stuff))\n",
    "print(stuff[0])"
   ]
  }
 ],
 "metadata": {
  "kernelspec": {
   "display_name": "pytest",
   "language": "python",
   "name": "python3"
  },
  "language_info": {
   "codemirror_mode": {
    "name": "ipython",
    "version": 3
   },
   "file_extension": ".py",
   "mimetype": "text/x-python",
   "name": "python",
   "nbconvert_exporter": "python",
   "pygments_lexer": "ipython3",
   "version": "3.12.4"
  }
 },
 "nbformat": 4,
 "nbformat_minor": 2
}
