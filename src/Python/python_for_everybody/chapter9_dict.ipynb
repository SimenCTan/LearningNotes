{
 "cells": [
  {
   "cell_type": "markdown",
   "metadata": {},
   "source": [
    "在Python中，字典（dictionary）是一种无序、可变、有键的数据类型，用大括号 `{}` 来表示，其中每个元素由键（key）和对应的值（value）组成，键和值之间用冒号 `:` 分隔，不同的键值对之间用逗号 `,` 分隔。以下是关于Python字典的定义、用法和操作的详细说明：\n",
    "\n",
    "### 定义字典\n",
    "```python\n",
    "# 创建一个空字典\n",
    "my_dict = {}\n",
    "\n",
    "# 创建一个非空字典\n",
    "my_dict = {'key1': 'value1', 'key2': 'value2', 'key3': 'value3'}\n",
    "```\n",
    "\n",
    "### 字典的基本操作\n",
    "1. **访问字典中的值**\n",
    "```python\n",
    "my_dict = {'name': 'Alice', 'age': 30}\n",
    "\n",
    "# 通过键访问值\n",
    "print(my_dict['name'])  # 输出: Alice\n",
    "```\n",
    "\n",
    "2. **添加或修改键值对**\n",
    "```python\n",
    "my_dict = {'name': 'Alice', 'age': 30}\n",
    "\n",
    "# 添加新的键值对\n",
    "my_dict['city'] = 'New York'\n",
    "\n",
    "# 修改已有键的值\n",
    "my_dict['age'] = 31\n",
    "```\n",
    "\n",
    "3. **删除键值对**\n",
    "```python\n",
    "my_dict = {'name': 'Alice', 'age': 30}\n",
    "\n",
    "# 删除指定键值对\n",
    "del my_dict['age']\n",
    "\n",
    "# 清空字典\n",
    "my_dict.clear()\n",
    "```\n",
    "\n",
    "4. **检查键是否存在**\n",
    "```python\n",
    "my_dict = {'name': 'Alice', 'age': 30}\n",
    "\n",
    "# 检查键是否存在\n",
    "if 'name' in my_dict:\n",
    "    print('Key \"name\" exists')\n",
    "```\n",
    "\n",
    "5. **获取所有键、值和键值对**\n",
    "```python\n",
    "my_dict = {'name': 'Alice', 'age': 30}\n",
    "\n",
    "# 获取所有键\n",
    "keys = my_dict.keys()\n",
    "\n",
    "# 获取所有值\n",
    "values = my_dict.values()\n",
    "\n",
    "# 获取所有键值对\n",
    "items = my_dict.items()\n",
    "```\n",
    "\n",
    "6. **遍历字典**\n",
    "```python\n",
    "my_dict = {'name': 'Alice', 'age': 30}\n",
    "\n",
    "# 遍历所有键\n",
    "for key in my_dict:\n",
    "    print(key)\n",
    "\n",
    "# 遍历所有值\n",
    "for value in my_dict.values():\n",
    "    print(value)\n",
    "\n",
    "# 遍历所有键值对\n",
    "for key, value in my_dict.items():\n",
    "    print(key, value)\n",
    "```\n",
    "\n",
    "### 注意事项\n",
    "- 字典中的键必须是不可变的类型，如字符串、数字或元组，而值可以是任意类型。\n",
    "- 字典是无序的，即不保证键值对的顺序与添加顺序相同。\n",
    "- 字典是可变的，可以随时添加、修改或删除键值对。\n",
    "\n",
    "Python中的字典是非常灵活和强大的数据结构，常用于存储和操作键值对数据。在实际编程中，字典经常被用来表示各种数据，如配置信息、API响应、数据库查询结果等。"
   ]
  },
  {
   "cell_type": "code",
   "execution_count": 1,
   "metadata": {},
   "outputs": [
    {
     "name": "stdout",
     "output_type": "stream",
     "text": [
      "{'a': 1, 'b': 1, 'c': 1, 'd': 1, 'e': 1}\n"
     ]
    }
   ],
   "source": [
    "counts = {}\n",
    "names = ['a', 'b', 'c', 'd', 'e']\n",
    "for name in names:\n",
    "    counts[name] = counts.get(name, 0) + 1\n",
    "print(counts)"
   ]
  },
  {
   "cell_type": "code",
   "execution_count": 2,
   "metadata": {},
   "outputs": [
    {
     "name": "stdout",
     "output_type": "stream",
     "text": [
      "['chunk', 'fred', 'jan']\n",
      "dict_keys(['chunk', 'fred', 'jan'])\n",
      "dict_values([1, 42, 100])\n",
      "dict_items([('chunk', 1), ('fred', 42), ('jan', 100)])\n"
     ]
    }
   ],
   "source": [
    "jjj={\"chunk\":1,\"fred\":42,\"jan\":100}\n",
    "print(list(jjj))\n",
    "print(jjj.keys())\n",
    "print(jjj.values())\n",
    "print(jjj.items())"
   ]
  },
  {
   "cell_type": "code",
   "execution_count": 3,
   "metadata": {},
   "outputs": [
    {
     "name": "stdout",
     "output_type": "stream",
     "text": [
      "and 685\n"
     ]
    }
   ],
   "source": [
    "counts = dict()\n",
    "with open(\"./docs/speech.txt\") as f:\n",
    "    for line in f:\n",
    "        if line==\"\\n\" or line==\"\\n\\n\":\n",
    "            continue\n",
    "        words = line.split()\n",
    "        for word in words:\n",
    "            counts[word] = counts.get(word, 0) + 1\n",
    "\n",
    "bigcount = None\n",
    "bigword = None\n",
    "for word, count in counts.items():\n",
    "    if bigcount is None or count > bigcount:\n",
    "        bigword = word\n",
    "        bigcount = count\n",
    "\n",
    "print(bigword, bigcount)"
   ]
  }
 ],
 "metadata": {
  "kernelspec": {
   "display_name": "pytest",
   "language": "python",
   "name": "python3"
  },
  "language_info": {
   "codemirror_mode": {
    "name": "ipython",
    "version": 3
   },
   "file_extension": ".py",
   "mimetype": "text/x-python",
   "name": "python",
   "nbconvert_exporter": "python",
   "pygments_lexer": "ipython3",
   "version": "3.12.4"
  }
 },
 "nbformat": 4,
 "nbformat_minor": 2
}
