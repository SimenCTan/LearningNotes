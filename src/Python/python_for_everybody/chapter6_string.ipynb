{
 "cells": [
  {
   "cell_type": "markdown",
   "metadata": {},
   "source": [
    "在Python中，字符串（string）是一种非常常见的数据类型，用于表示文本数据。字符串是由一系列字符组成的，可以包含字母、数字、特殊字符等。以下是一些关于Python字符串数据类型的示例：\n",
    "\n",
    "### 创建字符串\n",
    "\n",
    "```python\n",
    "# 使用单引号创建字符串\n",
    "str1 = 'Hello, World!'\n",
    "\n",
    "# 使用双引号创建字符串\n",
    "str2 = \"Python Programming\"\n",
    "\n",
    "# 使用三重引号创建多行字符串\n",
    "str3 = '''This is a \n",
    "multi-line \n",
    "string'''\n",
    "\n",
    "# 使用加号连接字符串\n",
    "str4 = 'Hello, ' + 'World!'\n",
    "```\n",
    "\n",
    "### 访问字符串中的字符\n",
    "\n",
    "```python\n",
    "# 访问单个字符\n",
    "print(str1[0])  # 输出：H\n",
    "\n",
    "# 切片操作\n",
    "print(str2[7:18])  # 输出：Programming\n",
    "```\n",
    "\n",
    "### 字符串方法\n",
    "\n",
    "```python\n",
    "# 字符串长度\n",
    "print(len(str1))  # 输出：13\n",
    "\n",
    "# 转换为大写\n",
    "print(str2.upper())  # 输出：PYTHON PROGRAMMING\n",
    "\n",
    "# 转换为小写\n",
    "print(str2.lower())  # 输出：python programming\n",
    "\n",
    "# 查找子字符串的位置\n",
    "print(str1.find('World'))  # 输出：7\n",
    "\n",
    "# 替换子字符串\n",
    "new_str = str1.replace('World', 'Python')\n",
    "print(new_str)  # 输出：Hello, Python!\n",
    "```\n",
    "\n",
    "### 格式化字符串\n",
    "\n",
    "```python\n",
    "name = 'Alice'\n",
    "age = 30\n",
    "# 使用f-string格式化字符串\n",
    "formatted_str = f'My name is {name} and I am {age} years old.'\n",
    "print(formatted_str)  # 输出：My name is Alice and I am 30 years old.\n",
    "```\n",
    "\n",
    "### 字符串拼接\n",
    "\n",
    "```python\n",
    "str5 = 'Hello, '\n",
    "str6 = 'World!'\n",
    "# 使用加号拼接字符串\n",
    "combined_str = str5 + str6\n",
    "print(combined_str)  # 输出：Hello, World!\n",
    "\n",
    "# 使用join方法拼接字符串\n",
    "words = ['Hello', 'World', 'Python']\n",
    "joined_str = ' '.join(words)\n",
    "print(joined_str)  # 输出：Hello World Python\n",
    "```\n",
    "\n",
    "这些示例展示了Python中字符串数据类型的一些常见操作和用法。字符串在Python中是不可变的，这意味着一旦创建了字符串，就无法更改其内容，但可以通过操作创建新的字符串。"
   ]
  },
  {
   "cell_type": "code",
   "execution_count": 1,
   "metadata": {},
   "outputs": [
    {
     "name": "stdout",
     "output_type": "stream",
     "text": [
      "o\n",
      "r\n",
      "a\n",
      "n\n",
      "g\n",
      "e\n",
      "o\n",
      "r\n",
      "a\n",
      "n\n",
      "g\n",
      "e\n"
     ]
    }
   ],
   "source": [
    "fruit = \"orange\"\n",
    "for letter in fruit:\n",
    "    print(letter)\n",
    "\n",
    "index = 0\n",
    "while index < len(fruit):\n",
    "    letter = fruit[index]\n",
    "    print(letter)\n",
    "    index = index + 1"
   ]
  },
  {
   "cell_type": "markdown",
   "metadata": {},
   "source": [
    "### 字符串切片"
   ]
  },
  {
   "cell_type": "code",
   "execution_count": 2,
   "metadata": {},
   "outputs": [
    {
     "name": "stdout",
     "output_type": "stream",
     "text": [
      "Mo\n",
      "thon\n",
      "Monty Python\n"
     ]
    }
   ],
   "source": [
    "s = \"Monty Python\"\n",
    "print(s[:2])\n",
    "print(s[8:])\n",
    "print(s[:])"
   ]
  }
 ],
 "metadata": {
  "kernelspec": {
   "display_name": "pytest",
   "language": "python",
   "name": "python3"
  },
  "language_info": {
   "codemirror_mode": {
    "name": "ipython",
    "version": 3
   },
   "file_extension": ".py",
   "mimetype": "text/x-python",
   "name": "python",
   "nbconvert_exporter": "python",
   "pygments_lexer": "ipython3",
   "version": "3.12.4"
  }
 },
 "nbformat": 4,
 "nbformat_minor": 2
}
