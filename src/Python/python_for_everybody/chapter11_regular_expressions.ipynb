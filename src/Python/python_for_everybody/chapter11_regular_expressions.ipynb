{
 "cells": [
  {
   "cell_type": "markdown",
   "metadata": {},
   "source": [
    "正则表达式（Regular Expression）在Python中是一个强大的工具，用于匹配和操作文本字符串。下面我将通过几个示例详细说明Python中正则表达式的使用：\n",
    "\n",
    "### 示例1：匹配邮箱地址\n",
    "\n",
    "```python\n",
    "import re\n",
    "\n",
    "# 定义一个包含邮箱地址的字符串\n",
    "text = \"我的邮箱是example@email.com，另一个邮箱是test@example.com\"\n",
    "\n",
    "# 使用正则表达式匹配邮箱地址\n",
    "emails = re.findall(r'\\b[A-Za-z0-9._%+-]+@[A-Za-z0-9.-]+\\.[A-Z|a-z]{2,}\\b', text)\n",
    "\n",
    "# 输出匹配到的邮箱地址\n",
    "for email in emails:\n",
    "    print(email)\n",
    "```\n",
    "\n",
    "### 示例2：替换文本中的特定内容\n",
    "\n",
    "```python\n",
    "import re\n",
    "\n",
    "# 定义一个包含电话号码的字符串\n",
    "text = \"我的电话号码是123-456-7890，另一个电话号码是987-654-3210\"\n",
    "\n",
    "# 使用正则表达式替换电话号码\n",
    "new_text = re.sub(r'\\d{3}-\\d{3}-\\d{4}', '***-***-****', text)\n",
    "\n",
    "# 输出替换后的文本\n",
    "print(new_text)\n",
    "```\n",
    "\n",
    "### 示例3：提取文本中的数字\n",
    "\n",
    "```python\n",
    "import re\n",
    "\n",
    "# 定义一个包含数字的字符串\n",
    "text = \"我的身高是180厘米，体重是70公斤\"\n",
    "\n",
    "# 使用正则表达式提取数字\n",
    "numbers = re.findall(r'\\d+', text)\n",
    "\n",
    "# 输出提取到的数字\n",
    "for number in numbers:\n",
    "    print(number)\n",
    "```\n",
    "\n",
    "这些示例展示了如何在Python中使用正则表达式来匹配、替换和提取文本中的特定内容。正则表达式是一个强大的工具，可以帮助你处理各种文本处理任务。"
   ]
  },
  {
   "cell_type": "code",
   "execution_count": 3,
   "metadata": {},
   "outputs": [
    {
     "name": "stdout",
     "output_type": "stream",
     "text": [
      "['123', '23', '12']\n",
      "['F']\n"
     ]
    }
   ],
   "source": [
    "import re\n",
    "x = 'From:123 23 def 12 Using the : character'\n",
    "y = re.findall('[0-9]+',x)\n",
    "print(y)\n",
    "y = re.findall(\"[ABCDEF]+\",x)\n",
    "print(y)"
   ]
  },
  {
   "cell_type": "code",
   "execution_count": 5,
   "metadata": {},
   "outputs": [
    {
     "name": "stdout",
     "output_type": "stream",
     "text": [
      "['From: Using the :']\n",
      "['From:']\n"
     ]
    }
   ],
   "source": [
    "# greedy matching\n",
    "import re\n",
    "x = \"From: Using the : character\"\n",
    "y = re.findall('^F.+:',x)\n",
    "print(y)\n",
    "\n",
    "# non-greedy matching\n",
    "y = re.findall('^F.+?:',x)\n",
    "print(y)\n"
   ]
  },
  {
   "cell_type": "code",
   "execution_count": 19,
   "metadata": {},
   "outputs": [
    {
     "name": "stdout",
     "output_type": "stream",
     "text": [
      "['arenc@ggg.com', 'sdfadf@com.cn']\n",
      "['arenc@ggg.com']\n"
     ]
    }
   ],
   "source": [
    "import re\n",
    "x = 'From: arenc@ggg.com def 12 Using the : character To: sdfadf@com.cn'\n",
    "y = re.findall('\\\\S+@\\\\S+',x)\n",
    "print(y)\n",
    "y = re.findall('^From: (\\\\S+@\\\\S+)',x)\n",
    "print(y)\n"
   ]
  },
  {
   "cell_type": "code",
   "execution_count": 21,
   "metadata": {},
   "outputs": [
    {
     "name": "stdout",
     "output_type": "stream",
     "text": [
      "12\n",
      "19\n",
      "com.cn\n",
      "com.cn\n",
      "['com.cn']\n"
     ]
    }
   ],
   "source": [
    "# extract the domain name using find and string slicing\n",
    "data = \"From stephen@com.cn Sat Jan 5 09:14:16 2008\"\n",
    "atpos = data.find('@')\n",
    "print(atpos)\n",
    "sppos = data.find(' ',atpos)\n",
    "print(sppos)\n",
    "host = data[atpos+1:sppos]\n",
    "print(host)\n",
    "\n",
    "words = data.split()\n",
    "email = words[1]\n",
    "pieces = email.split('@')\n",
    "print(pieces[1])\n",
    "\n",
    "print(re.findall(\"@([^ ]*)\",data))"
   ]
  }
 ],
 "metadata": {
  "kernelspec": {
   "display_name": "pytest",
   "language": "python",
   "name": "python3"
  },
  "language_info": {
   "codemirror_mode": {
    "name": "ipython",
    "version": 3
   },
   "file_extension": ".py",
   "mimetype": "text/x-python",
   "name": "python",
   "nbconvert_exporter": "python",
   "pygments_lexer": "ipython3",
   "version": "3.12.4"
  }
 },
 "nbformat": 4,
 "nbformat_minor": 2
}
