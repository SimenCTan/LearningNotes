{
 "cells": [
  {
   "cell_type": "markdown",
   "metadata": {},
   "source": [
    "## Loops and Iteration\n",
    "在Python中，循环（loops）和迭代（iteration）是非常重要的概念，用于重复执行代码块或遍历数据结构。Python提供了多种循环和迭代的方式，包括for循环、while循环以及迭代器和生成器等。\n",
    "\n",
    "### 1. for循环\n",
    "for循环用于遍历序列（如列表、元组、字符串等）中的元素，或者执行固定次数的循环。例如：\n",
    "\n",
    "```python\n",
    "fruits = [\"apple\", \"banana\", \"cherry\"]\n",
    "for fruit in fruits:\n",
    "    print(fruit)\n",
    "```\n",
    "\n",
    "### 2. while循环\n",
    "while循环会在条件为真时重复执行代码块，直到条件变为假。例如：\n",
    "\n",
    "```python\n",
    "count = 0\n",
    "while count < 5:\n",
    "    print(count)\n",
    "    count += 1\n",
    "```\n",
    "\n",
    "### 3. break和continue语句\n",
    "- `break`语句用于跳出循环，即使循环条件仍然为真。\n",
    "- `continue`语句用于跳过当前循环中的剩余代码，直接进入下一次循环。\n",
    "\n",
    "### 4. 无限循环\n",
    "无限循环是指循环条件永远为真，导致循环无法自动终止。例如：\n",
    "\n",
    "```python\n",
    "while True:\n",
    "    # 无限循环\n",
    "    pass\n",
    "```\n",
    "\n",
    "要避免无限循环，通常需要在循环内部使用条件来控制循环的终止。\n",
    "\n",
    "### 5. 迭代器和生成器\n",
    "- 迭代器（iterator）是一个可以逐个访问元素的对象，可以通过`iter()`和`next()`函数来实现。\n",
    "- 生成器（generator）是一种特殊的迭代器，可以使用函数和`yield`语句来创建。生成器可以节省内存并提高性能。\n",
    "\n",
    "```python\n",
    "# 生成器示例\n",
    "def square_numbers(n):\n",
    "    for i in range(n):\n",
    "        yield i ** 2\n",
    "\n",
    "# 使用生成器\n",
    "for num in square_numbers(5):\n",
    "    print(num)\n",
    "```"
   ]
  },
  {
   "cell_type": "code",
   "execution_count": 1,
   "metadata": {},
   "outputs": [
    {
     "name": "stdout",
     "output_type": "stream",
     "text": [
      "1\n",
      "2\n",
      "3\n",
      "4\n",
      "5\n",
      "6\n",
      "7\n",
      "8\n",
      "9\n",
      "done\n"
     ]
    }
   ],
   "source": [
    "for i in range(1,10):\n",
    "    print(i)\n",
    "print(\"done\")"
   ]
  },
  {
   "cell_type": "markdown",
   "metadata": {},
   "source": [
    "finding the average in a loop"
   ]
  },
  {
   "cell_type": "code",
   "execution_count": 2,
   "metadata": {},
   "outputs": [
    {
     "name": "stdout",
     "output_type": "stream",
     "text": [
      "before loop count=0 sum=0\n",
      "inside loop count=1 sum=1\n",
      "inside loop count=2 sum=3\n",
      "inside loop count=3 sum=6\n",
      "inside loop count=4 sum=10\n",
      "inside loop count=5 sum=15\n",
      "inside loop count=6 sum=21\n",
      "inside loop count=7 sum=28\n",
      "inside loop count=8 sum=36\n",
      "inside loop count=9 sum=45\n",
      "after loop count=9 sum=45\n"
     ]
    }
   ],
   "source": [
    "count = 0\n",
    "sum =0\n",
    "print(f\"before loop count={count} sum={sum}\")\n",
    "for i in range(1,10):\n",
    "    count += 1\n",
    "    sum += i\n",
    "    print(f\"inside loop count={count} sum={sum}\")\n",
    "print(f\"after loop count={count} sum={sum}\")"
   ]
  }
 ],
 "metadata": {
  "kernelspec": {
   "display_name": "pytest",
   "language": "python",
   "name": "python3"
  },
  "language_info": {
   "codemirror_mode": {
    "name": "ipython",
    "version": 3
   },
   "file_extension": ".py",
   "mimetype": "text/x-python",
   "name": "python",
   "nbconvert_exporter": "python",
   "pygments_lexer": "ipython3",
   "version": "3.12.4"
  }
 },
 "nbformat": 4,
 "nbformat_minor": 2
}
