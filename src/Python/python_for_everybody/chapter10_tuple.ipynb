{
 "cells": [
  {
   "cell_type": "markdown",
   "metadata": {},
   "source": [
    "在Python中，tuple（元组）是一种不可变的数据结构，类似于list（列表），但有一些关键区别。让我们先来看看有效性（mutability）和list之间的区别，然后再详细讨论tuple在Python中的作用。\n",
    "\n",
    "### 有效性（Mutability）和List的区别：\n",
    "\n",
    "1. **有效性（Mutability）**：\n",
    "   - **List** 是可变的数据结构，这意味着您可以更改列表中的元素，添加新元素或删除现有元素。\n",
    "   - **Tuple** 是不可变的数据结构，一旦创建，其内容就不能被更改。您无法向元组添加、删除或更改元素。\n",
    "\n",
    "2. **表现形式**：\n",
    "   - List 使用方括号 \\([ ]\\) 来表示，例如：`my_list = [1, 2, 3]`\n",
    "   - Tuple 使用圆括号 \\(( )\\) 来表示，例如：`my_tuple = (1, 2, 3)`\n",
    "\n",
    "### Tuple在Python中的作用：\n",
    "\n",
    "1. **用途**：\n",
    "   - **不可变性**：Tuple 的不可变性使其在需要确保数据不被更改的情况下非常有用。例如，当您希望数据在传递给函数或模块时保持不变时，可以使用元组。\n",
    "   - **作为字典的键**：由于元组是不可变的，因此可以用作字典的键，而列表则不能用作字典的键。\n",
    "   - **多个返回值**：函数可以返回多个值，这些值可以打包在一个元组中并返回，然后可以轻松地解包这些值。\n",
    "\n",
    "2. **性能**：\n",
    "   - 由于元组是不可变的，因此在某些情况下，元组的性能可能比列表更好。因为Python不需要为元组的元素分配新的内存空间。\n",
    "\n",
    "3. **解构**：\n",
    "   - 元组支持解构（unpacking），这意味着您可以将元组的值分配给多个变量，例如：`a, b, c = (1, 2, 3)`\n",
    "\n",
    "4. **作为常量集合**：\n",
    "   - 在某些情况下，您可能希望定义一组常量值，这些值在整个程序中保持不变。在这种情况下，使用元组比列表更合适。\n",
    "\n",
    "总的来说，Tuple 在Python中的作用主要体现在其不可变性和一些特殊的应用场景，如确保数据不被更改、作为字典的键、多个返回值等。在选择使用列表还是元组时，取决于您的需求和数据的特性。"
   ]
  },
  {
   "cell_type": "code",
   "execution_count": null,
   "metadata": {},
   "outputs": [],
   "source": [
    "# 创建一个元组\n",
    "my_tuple = (1, 2, 3)\n",
    "\n",
    "# 尝试更改元组中的元素会引发错误\n",
    "# my_tuple[0] = 5  # 会引发 TypeError: 'tuple' object does not support item assignment\n"
   ]
  },
  {
   "cell_type": "code",
   "execution_count": null,
   "metadata": {},
   "outputs": [],
   "source": [
    "# 使用元组作为字典的键\n",
    "my_dict = {(1, 2): \"value1\", (3, 4): \"value2\"}\n",
    "\n",
    "# 访问字典中的值\n",
    "print(my_dict[(1, 2)])  # 输出: value1\n"
   ]
  },
  {
   "cell_type": "code",
   "execution_count": null,
   "metadata": {},
   "outputs": [],
   "source": [
    "# 函数返回多个值，这些值被打包在一个元组中\n",
    "def get_coordinates():\n",
    "    x = 10\n",
    "    y = 20\n",
    "    z = 30\n",
    "    return x, y, z\n",
    "\n",
    "# 解构元组，将返回的值分配给多个变量\n",
    "a, b, c = get_coordinates()\n",
    "print(a, b, c)  # 输出: 10 20 30\n"
   ]
  },
  {
   "cell_type": "code",
   "execution_count": null,
   "metadata": {},
   "outputs": [],
   "source": [
    "import time\n",
    "\n",
    "# 比较列表和元组的性能\n",
    "start_time = time.time()\n",
    "my_list = [1, 2, 3] * 1000000\n",
    "end_time = time.time()\n",
    "list_creation_time = end_time - start_time\n",
    "\n",
    "start_time = time.time()\n",
    "my_tuple = (1, 2, 3) * 1000000\n",
    "end_time = time.time()\n",
    "tuple_creation_time = end_time - start_time\n",
    "\n",
    "print(\"List creation time:\", list_creation_time)\n",
    "print(\"Tuple creation time:\", tuple_creation_time)\n"
   ]
  },
  {
   "cell_type": "markdown",
   "metadata": {},
   "source": [
    "在Python中，元组（tuples）是不可变的数据结构，因此元组之间的操作主要涉及元组的创建、访问元素、连接元组、拆分元组等操作。以下是一些常见的元组间操作：\n",
    "\n",
    "### 1. 创建元组：\n",
    "\n",
    "```python\n",
    "# 创建一个空元组\n",
    "empty_tuple = ()\n",
    "\n",
    "# 创建包含元素的元组\n",
    "my_tuple = (1, 2, 3)\n",
    "```\n",
    "\n",
    "### 2. 访问元组元素：\n",
    "\n",
    "```python\n",
    "my_tuple = (1, 2, 3)\n",
    "\n",
    "# 访问单个元素\n",
    "print(my_tuple[0])  # 输出: 1\n",
    "\n",
    "# 切片操作\n",
    "print(my_tuple[1:])  # 输出: (2, 3)\n",
    "```\n",
    "\n",
    "### 3. 连接元组：\n",
    "\n",
    "```python\n",
    "tuple1 = (1, 2)\n",
    "tuple2 = (3, 4)\n",
    "\n",
    "# 使用加号连接元组\n",
    "combined_tuple = tuple1 + tuple2\n",
    "print(combined_tuple)  # 输出: (1, 2, 3, 4)\n",
    "```\n",
    "\n",
    "### 4. 拆分元组：\n",
    "\n",
    "```python\n",
    "my_tuple = (1, 2, 3)\n",
    "\n",
    "# 拆分元组\n",
    "a, b, c = my_tuple\n",
    "print(a, b, c)  # 输出: 1 2 3\n",
    "```\n",
    "\n",
    "### 5. 比较元组：\n",
    "\n",
    "```python\n",
    "tuple1 = (1, 2, 3)\n",
    "tuple2 = (1, 2, 4)\n",
    "\n",
    "# 比较元组\n",
    "if tuple1 < tuple2:\n",
    "    print(\"tuple1 is less than tuple2\")\n",
    "else:\n",
    "    print(\"tuple1 is greater than or equal to tuple2\")\n",
    "```\n",
    "\n",
    "### 6. 其他操作：\n",
    "\n",
    "- **获取元组长度**：使用 `len()` 函数获取元组的长度。\n",
    "- **检查元素是否存在**：使用 `in` 运算符检查元素是否存在于元组中。\n",
    "- **复制元组**：使用 `tuple()` 函数或切片操作复制元组。\n",
    "\n",
    "这些是一些常见的元组间操作，展示了如何创建、访问、连接、拆分和比较元组。元组的不可变性使得它们在许多情况下都是很有用的数据结构。"
   ]
  },
  {
   "cell_type": "code",
   "execution_count": 4,
   "metadata": {},
   "outputs": [
    {
     "name": "stdout",
     "output_type": "stream",
     "text": [
      "['__class__', '__class_getitem__', '__contains__', '__delattr__', '__delitem__', '__dir__', '__doc__', '__eq__', '__format__', '__ge__', '__getattribute__', '__getitem__', '__getstate__', '__gt__', '__hash__', '__init__', '__init_subclass__', '__ior__', '__iter__', '__le__', '__len__', '__lt__', '__ne__', '__new__', '__or__', '__reduce__', '__reduce_ex__', '__repr__', '__reversed__', '__ror__', '__setattr__', '__setitem__', '__sizeof__', '__str__', '__subclasshook__', 'clear', 'copy', 'fromkeys', 'get', 'items', 'keys', 'pop', 'popitem', 'setdefault', 'update', 'values']\n",
      "[('c', 22), ('b', 1), ('a', 10)]\n",
      "[(10, 'a'), (1, 'b'), (22, 'c')]\n",
      "[(22, 'c'), (10, 'a'), (1, 'b')]\n"
     ]
    }
   ],
   "source": [
    "d = {'a':10, 'b':1, 'c':22}\n",
    "print(dir(d))\n",
    "t = sorted(d.items(),reverse=True)\n",
    "print(t)\n",
    "\n",
    "tmp = list()\n",
    "for k, v in d.items():\n",
    "    tmp.append((v, k))\n",
    "print(tmp)\n",
    "tmp = sorted(tmp, reverse=True)\n",
    "print(tmp)"
   ]
  },
  {
   "cell_type": "code",
   "execution_count": 6,
   "metadata": {},
   "outputs": [
    {
     "name": "stdout",
     "output_type": "stream",
     "text": [
      "and 685\n",
      "to 485\n",
      "the 470\n",
      "a 350\n",
      "I 332\n",
      "that 324\n",
      "you 317\n",
      "like 288\n",
      "of 283\n",
      "is 211\n"
     ]
    }
   ],
   "source": [
    "counts = dict()\n",
    "with open(\"./docs/speech.txt\") as f:\n",
    "    for line in f:\n",
    "        if line == \"\\n\" or line == \"\\n\\n\":\n",
    "            continue\n",
    "        words = line.split()\n",
    "        for word in words:\n",
    "            counts[word]=counts.get(word,0)+1\n",
    "lst = list(counts.items())\n",
    "lst = sorted(lst,key=lambda x:x[1],reverse=True)\n",
    "for k,v in lst[:10]:\n",
    "    print(k,v)"
   ]
  },
  {
   "cell_type": "code",
   "execution_count": 7,
   "metadata": {},
   "outputs": [
    {
     "name": "stdout",
     "output_type": "stream",
     "text": [
      "[(1, 'b'), (10, 'a'), (22, 'c')]\n"
     ]
    }
   ],
   "source": [
    "c = {'a':10, 'b':1, 'c':22}\n",
    "print(sorted([(v,k)for k,v in c.items()]))\n"
   ]
  }
 ],
 "metadata": {
  "kernelspec": {
   "display_name": "pytest",
   "language": "python",
   "name": "python3"
  },
  "language_info": {
   "codemirror_mode": {
    "name": "ipython",
    "version": 3
   },
   "file_extension": ".py",
   "mimetype": "text/x-python",
   "name": "python",
   "nbconvert_exporter": "python",
   "pygments_lexer": "ipython3",
   "version": "3.12.4"
  }
 },
 "nbformat": 4,
 "nbformat_minor": 2
}
